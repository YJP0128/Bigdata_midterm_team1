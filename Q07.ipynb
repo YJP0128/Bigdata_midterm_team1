{
 "cells": [
  {
   "cell_type": "markdown",
   "id": "bb48f693",
   "metadata": {},
   "source": [
    "## 07 MINJI"
   ]
  },
  {
   "cell_type": "code",
   "execution_count": 63,
   "id": "607566b4",
   "metadata": {},
   "outputs": [],
   "source": [
    "import pandas as pd\n",
    "import numpy as np\n"
   ]
  },
  {
   "cell_type": "code",
   "execution_count": 64,
   "id": "39a2d249",
   "metadata": {},
   "outputs": [],
   "source": [
    "df= pd.read_csv('7_heart.csv') #파일 불러오기 "
   ]
  },
  {
   "cell_type": "code",
   "execution_count": 65,
   "id": "0b7e3add",
   "metadata": {},
   "outputs": [
    {
     "name": "stdout",
     "output_type": "stream",
     "text": [
      "<class 'pandas.core.frame.DataFrame'>\n",
      "RangeIndex: 297 entries, 0 to 296\n",
      "Data columns (total 14 columns):\n",
      " #   Column     Non-Null Count  Dtype  \n",
      "---  ------     --------------  -----  \n",
      " 0   age        297 non-null    int64  \n",
      " 1   sex        297 non-null    int64  \n",
      " 2   cp         297 non-null    int64  \n",
      " 3   trestbps   297 non-null    int64  \n",
      " 4   chol       297 non-null    int64  \n",
      " 5   fbs        297 non-null    int64  \n",
      " 6   restecg    297 non-null    int64  \n",
      " 7   thalach    297 non-null    int64  \n",
      " 8   exang      297 non-null    int64  \n",
      " 9   oldpeak    297 non-null    float64\n",
      " 10  slope      297 non-null    int64  \n",
      " 11  ca         297 non-null    int64  \n",
      " 12  thal       297 non-null    int64  \n",
      " 13  condition  297 non-null    int64  \n",
      "dtypes: float64(1), int64(13)\n",
      "memory usage: 32.6 KB\n"
     ]
    }
   ],
   "source": [
    "df.head() #데이터 확인하기 \n",
    "df.info()\n"
   ]
  },
  {
   "cell_type": "code",
   "execution_count": 66,
   "id": "30ef6adf",
   "metadata": {},
   "outputs": [
    {
     "data": {
      "text/plain": [
       "age          0\n",
       "sex          0\n",
       "cp           0\n",
       "trestbps     0\n",
       "chol         0\n",
       "fbs          0\n",
       "restecg      0\n",
       "thalach      0\n",
       "exang        0\n",
       "oldpeak      0\n",
       "slope        0\n",
       "ca           0\n",
       "thal         0\n",
       "condition    0\n",
       "dtype: int64"
      ]
     },
     "execution_count": 66,
     "metadata": {},
     "output_type": "execute_result"
    }
   ],
   "source": [
    "df.isnull().sum()#결측치 확인하기 "
   ]
  },
  {
   "cell_type": "code",
   "execution_count": 67,
   "id": "2d2fd00c",
   "metadata": {},
   "outputs": [
    {
     "data": {
      "text/plain": [
       "age           41\n",
       "sex            2\n",
       "cp             4\n",
       "trestbps      50\n",
       "chol         152\n",
       "fbs            2\n",
       "restecg        3\n",
       "thalach       91\n",
       "exang          2\n",
       "oldpeak       40\n",
       "slope          3\n",
       "ca             4\n",
       "thal           3\n",
       "condition      2\n",
       "dtype: int64"
      ]
     },
     "execution_count": 67,
     "metadata": {},
     "output_type": "execute_result"
    }
   ],
   "source": [
    "df.nunique()  #고유값 확인 "
   ]
  },
  {
   "cell_type": "code",
   "execution_count": null,
   "id": "4f74302d",
   "metadata": {},
   "outputs": [
    {
     "name": "stdout",
     "output_type": "stream",
     "text": [
      "['age', 'trestbps', 'chol', 'thalach', 'oldpeak']\n",
      "['sex', 'cp', 'fbs', 'restecg', 'exang', 'slope', 'ca', 'thal', 'condition']\n"
     ]
    }
   ],
   "source": [
    "numerical_cols = [] #범주형과 연속형 분류\n",
    "categorical_cols = []\n",
    "for col in df.columns:\n",
    "    if df[col].dtype in ['int64', 'float64']:  # 숫자 타입인 경우에\n",
    "        if df[col].nunique() < 15:  # 고유값이 15개 미만이면 범주형 취급\n",
    "            categorical_cols.append(col)\n",
    "        else:\n",
    "            numerical_cols.append(col)\n",
    "    else:  # 문자 타입이면 무조건 범주형\n",
    "        categorical_cols.append(col)\n",
    "\n",
    "print(numerical_cols)\n",
    "print(categorical_cols)\n"
   ]
  },
  {
   "cell_type": "code",
   "execution_count": 69,
   "id": "5f2f7a18",
   "metadata": {},
   "outputs": [],
   "source": [
    "for col in numerical_cols: #IQR(사분위 범위)로 이상치 제거 \n",
    "    Q1 = df[col].quantile(0.25)\n",
    "    Q3 = df[col].quantile(0.75)\n",
    "    IQR = Q3 - Q1\n",
    "    lower = Q1 - 1.5 * IQR\n",
    "    upper = Q3 + 1.5 * IQR\n",
    "    df[col] = df[col].clip(lower=lower, upper=upper)\n"
   ]
  },
  {
   "cell_type": "code",
   "execution_count": 70,
   "id": "408a94ad",
   "metadata": {},
   "outputs": [],
   "source": [
    "from sklearn.preprocessing import OneHotEncoder #범주형 컬럼 인코딩\n",
    "\n",
    "ohe = OneHotEncoder(sparse_output=False) #원핫 인코딩을 통해 범주형 칼럼 인코딩 진행 (순서 상관 없는 칼럼들 )\n",
    "encoded = ohe.fit_transform(df[categorical_cols])\n",
    "\n",
    "df_encoded = pd.DataFrame(encoded, columns=ohe.get_feature_names_out(categorical_cols))\n",
    "df = pd.concat([df.drop(columns=categorical_cols), df_encoded], axis=1)"
   ]
  },
  {
   "cell_type": "code",
   "execution_count": 71,
   "id": "69e3c2e9",
   "metadata": {},
   "outputs": [],
   "source": [
    "from sklearn.preprocessing import MinMaxScaler\n",
    "\n",
    "scaler = MinMaxScaler()\n",
    "df[numerical_cols] = scaler.fit_transform(df[numerical_cols])"
   ]
  },
  {
   "cell_type": "code",
   "execution_count": 72,
   "id": "2bcb95e7",
   "metadata": {},
   "outputs": [],
   "source": [
    "# 중복 데이터 확인\n",
    "df.duplicated().sum()\n",
    "\n",
    "# 중복 데이터 제거\n",
    "df.drop_duplicates(inplace=True)\n"
   ]
  },
  {
   "cell_type": "code",
   "execution_count": 73,
   "id": "07061556",
   "metadata": {},
   "outputs": [
    {
     "data": {
      "text/html": [
       "<div>\n",
       "<style scoped>\n",
       "    .dataframe tbody tr th:only-of-type {\n",
       "        vertical-align: middle;\n",
       "    }\n",
       "\n",
       "    .dataframe tbody tr th {\n",
       "        vertical-align: top;\n",
       "    }\n",
       "\n",
       "    .dataframe thead th {\n",
       "        text-align: right;\n",
       "    }\n",
       "</style>\n",
       "<table border=\"1\" class=\"dataframe\">\n",
       "  <thead>\n",
       "    <tr style=\"text-align: right;\">\n",
       "      <th></th>\n",
       "      <th>age</th>\n",
       "      <th>trestbps</th>\n",
       "      <th>chol</th>\n",
       "      <th>thalach</th>\n",
       "      <th>oldpeak</th>\n",
       "      <th>sex_0</th>\n",
       "      <th>sex_1</th>\n",
       "      <th>cp_0</th>\n",
       "      <th>cp_1</th>\n",
       "      <th>cp_2</th>\n",
       "      <th>...</th>\n",
       "      <th>slope_2</th>\n",
       "      <th>ca_0</th>\n",
       "      <th>ca_1</th>\n",
       "      <th>ca_2</th>\n",
       "      <th>ca_3</th>\n",
       "      <th>thal_0</th>\n",
       "      <th>thal_1</th>\n",
       "      <th>thal_2</th>\n",
       "      <th>condition_0</th>\n",
       "      <th>condition_1</th>\n",
       "    </tr>\n",
       "  </thead>\n",
       "  <tbody>\n",
       "    <tr>\n",
       "      <th>0</th>\n",
       "      <td>0.833333</td>\n",
       "      <td>0.868421</td>\n",
       "      <td>0.436364</td>\n",
       "      <td>0.400844</td>\n",
       "      <td>0.025</td>\n",
       "      <td>0.0</td>\n",
       "      <td>1.0</td>\n",
       "      <td>1.0</td>\n",
       "      <td>0.0</td>\n",
       "      <td>0.0</td>\n",
       "      <td>...</td>\n",
       "      <td>0.0</td>\n",
       "      <td>0.0</td>\n",
       "      <td>1.0</td>\n",
       "      <td>0.0</td>\n",
       "      <td>0.0</td>\n",
       "      <td>1.0</td>\n",
       "      <td>0.0</td>\n",
       "      <td>0.0</td>\n",
       "      <td>1.0</td>\n",
       "      <td>0.0</td>\n",
       "    </tr>\n",
       "    <tr>\n",
       "      <th>1</th>\n",
       "      <td>0.833333</td>\n",
       "      <td>0.605263</td>\n",
       "      <td>0.456566</td>\n",
       "      <td>0.569620</td>\n",
       "      <td>0.450</td>\n",
       "      <td>1.0</td>\n",
       "      <td>0.0</td>\n",
       "      <td>1.0</td>\n",
       "      <td>0.0</td>\n",
       "      <td>0.0</td>\n",
       "      <td>...</td>\n",
       "      <td>0.0</td>\n",
       "      <td>0.0</td>\n",
       "      <td>0.0</td>\n",
       "      <td>1.0</td>\n",
       "      <td>0.0</td>\n",
       "      <td>1.0</td>\n",
       "      <td>0.0</td>\n",
       "      <td>0.0</td>\n",
       "      <td>1.0</td>\n",
       "      <td>0.0</td>\n",
       "    </tr>\n",
       "    <tr>\n",
       "      <th>2</th>\n",
       "      <td>0.770833</td>\n",
       "      <td>0.736842</td>\n",
       "      <td>0.404040</td>\n",
       "      <td>0.257384</td>\n",
       "      <td>0.650</td>\n",
       "      <td>1.0</td>\n",
       "      <td>0.0</td>\n",
       "      <td>1.0</td>\n",
       "      <td>0.0</td>\n",
       "      <td>0.0</td>\n",
       "      <td>...</td>\n",
       "      <td>1.0</td>\n",
       "      <td>1.0</td>\n",
       "      <td>0.0</td>\n",
       "      <td>0.0</td>\n",
       "      <td>0.0</td>\n",
       "      <td>1.0</td>\n",
       "      <td>0.0</td>\n",
       "      <td>0.0</td>\n",
       "      <td>1.0</td>\n",
       "      <td>0.0</td>\n",
       "    </tr>\n",
       "    <tr>\n",
       "      <th>3</th>\n",
       "      <td>0.750000</td>\n",
       "      <td>0.578947</td>\n",
       "      <td>0.630303</td>\n",
       "      <td>0.763713</td>\n",
       "      <td>0.350</td>\n",
       "      <td>0.0</td>\n",
       "      <td>1.0</td>\n",
       "      <td>1.0</td>\n",
       "      <td>0.0</td>\n",
       "      <td>0.0</td>\n",
       "      <td>...</td>\n",
       "      <td>0.0</td>\n",
       "      <td>0.0</td>\n",
       "      <td>1.0</td>\n",
       "      <td>0.0</td>\n",
       "      <td>0.0</td>\n",
       "      <td>1.0</td>\n",
       "      <td>0.0</td>\n",
       "      <td>0.0</td>\n",
       "      <td>0.0</td>\n",
       "      <td>1.0</td>\n",
       "    </tr>\n",
       "    <tr>\n",
       "      <th>4</th>\n",
       "      <td>0.729167</td>\n",
       "      <td>0.210526</td>\n",
       "      <td>0.343434</td>\n",
       "      <td>0.510549</td>\n",
       "      <td>0.450</td>\n",
       "      <td>0.0</td>\n",
       "      <td>1.0</td>\n",
       "      <td>1.0</td>\n",
       "      <td>0.0</td>\n",
       "      <td>0.0</td>\n",
       "      <td>...</td>\n",
       "      <td>0.0</td>\n",
       "      <td>1.0</td>\n",
       "      <td>0.0</td>\n",
       "      <td>0.0</td>\n",
       "      <td>0.0</td>\n",
       "      <td>1.0</td>\n",
       "      <td>0.0</td>\n",
       "      <td>0.0</td>\n",
       "      <td>1.0</td>\n",
       "      <td>0.0</td>\n",
       "    </tr>\n",
       "  </tbody>\n",
       "</table>\n",
       "<p>5 rows × 30 columns</p>\n",
       "</div>"
      ],
      "text/plain": [
       "        age  trestbps      chol   thalach  oldpeak  sex_0  sex_1  cp_0  cp_1  \\\n",
       "0  0.833333  0.868421  0.436364  0.400844    0.025    0.0    1.0   1.0   0.0   \n",
       "1  0.833333  0.605263  0.456566  0.569620    0.450    1.0    0.0   1.0   0.0   \n",
       "2  0.770833  0.736842  0.404040  0.257384    0.650    1.0    0.0   1.0   0.0   \n",
       "3  0.750000  0.578947  0.630303  0.763713    0.350    0.0    1.0   1.0   0.0   \n",
       "4  0.729167  0.210526  0.343434  0.510549    0.450    0.0    1.0   1.0   0.0   \n",
       "\n",
       "   cp_2  ...  slope_2  ca_0  ca_1  ca_2  ca_3  thal_0  thal_1  thal_2  \\\n",
       "0   0.0  ...      0.0   0.0   1.0   0.0   0.0     1.0     0.0     0.0   \n",
       "1   0.0  ...      0.0   0.0   0.0   1.0   0.0     1.0     0.0     0.0   \n",
       "2   0.0  ...      1.0   1.0   0.0   0.0   0.0     1.0     0.0     0.0   \n",
       "3   0.0  ...      0.0   0.0   1.0   0.0   0.0     1.0     0.0     0.0   \n",
       "4   0.0  ...      0.0   1.0   0.0   0.0   0.0     1.0     0.0     0.0   \n",
       "\n",
       "   condition_0  condition_1  \n",
       "0          1.0          0.0  \n",
       "1          1.0          0.0  \n",
       "2          1.0          0.0  \n",
       "3          0.0          1.0  \n",
       "4          1.0          0.0  \n",
       "\n",
       "[5 rows x 30 columns]"
      ]
     },
     "execution_count": 73,
     "metadata": {},
     "output_type": "execute_result"
    }
   ],
   "source": [
    "df.head()"
   ]
  },
  {
   "cell_type": "code",
   "execution_count": null,
   "id": "8a76974e",
   "metadata": {},
   "outputs": [
    {
     "name": "stdout",
     "output_type": "stream",
     "text": [
      "<class 'pandas.core.frame.DataFrame'>\n",
      "RangeIndex: 297 entries, 0 to 296\n",
      "Data columns (total 30 columns):\n",
      " #   Column       Non-Null Count  Dtype  \n",
      "---  ------       --------------  -----  \n",
      " 0   age          297 non-null    float64\n",
      " 1   trestbps     297 non-null    float64\n",
      " 2   chol         297 non-null    float64\n",
      " 3   thalach      297 non-null    float64\n",
      " 4   oldpeak      297 non-null    float64\n",
      " 5   sex_0        297 non-null    float64\n",
      " 6   sex_1        297 non-null    float64\n",
      " 7   cp_0         297 non-null    float64\n",
      " 8   cp_1         297 non-null    float64\n",
      " 9   cp_2         297 non-null    float64\n",
      " 10  cp_3         297 non-null    float64\n",
      " 11  fbs_0        297 non-null    float64\n",
      " 12  fbs_1        297 non-null    float64\n",
      " 13  restecg_0    297 non-null    float64\n",
      " 14  restecg_1    297 non-null    float64\n",
      " 15  restecg_2    297 non-null    float64\n",
      " 16  exang_0      297 non-null    float64\n",
      " 17  exang_1      297 non-null    float64\n",
      " 18  slope_0      297 non-null    float64\n",
      " 19  slope_1      297 non-null    float64\n",
      " 20  slope_2      297 non-null    float64\n",
      " 21  ca_0         297 non-null    float64\n",
      " 22  ca_1         297 non-null    float64\n",
      " 23  ca_2         297 non-null    float64\n",
      " 24  ca_3         297 non-null    float64\n",
      " 25  thal_0       297 non-null    float64\n",
      " 26  thal_1       297 non-null    float64\n",
      " 27  thal_2       297 non-null    float64\n",
      " 28  condition_0  297 non-null    float64\n",
      " 29  condition_1  297 non-null    float64\n",
      "dtypes: float64(30)\n",
      "memory usage: 69.7 KB\n"
     ]
    }
   ],
   "source": [
    "df.info() #데이터 정보 확인하기 "
   ]
  },
  {
   "cell_type": "code",
   "execution_count": null,
   "id": "93835211",
   "metadata": {},
   "outputs": [
    {
     "name": "stdout",
     "output_type": "stream",
     "text": [
      "age            0.0\n",
      "trestbps       0.0\n",
      "chol           0.0\n",
      "thalach        0.0\n",
      "oldpeak        0.0\n",
      "sex_0          0.0\n",
      "sex_1          0.0\n",
      "cp_0           0.0\n",
      "cp_1           0.0\n",
      "cp_2           0.0\n",
      "cp_3           0.0\n",
      "fbs_0          0.0\n",
      "fbs_1          0.0\n",
      "restecg_0      0.0\n",
      "restecg_1      0.0\n",
      "restecg_2      0.0\n",
      "exang_0        0.0\n",
      "exang_1        0.0\n",
      "slope_0        0.0\n",
      "slope_1        0.0\n",
      "slope_2        0.0\n",
      "ca_0           0.0\n",
      "ca_1           0.0\n",
      "ca_2           0.0\n",
      "ca_3           0.0\n",
      "thal_0         0.0\n",
      "thal_1         0.0\n",
      "thal_2         0.0\n",
      "condition_0    0.0\n",
      "condition_1    0.0\n",
      "dtype: float64\n"
     ]
    }
   ],
   "source": [
    "print(df.isnull().mean())#결측치 비율 다시 확인하기 "
   ]
  },
  {
   "cell_type": "code",
   "execution_count": null,
   "id": "095ff5dd",
   "metadata": {},
   "outputs": [],
   "source": [
    "input_file ='7_heart.csv'\n",
    "output_file = df.(input_file)\n",
    "\n"
   ]
  }
 ],
 "metadata": {
  "kernelspec": {
   "display_name": "Python 3",
   "language": "python",
   "name": "python3"
  },
  "language_info": {
   "codemirror_mode": {
    "name": "ipython",
    "version": 3
   },
   "file_extension": ".py",
   "mimetype": "text/x-python",
   "name": "python",
   "nbconvert_exporter": "python",
   "pygments_lexer": "ipython3",
   "version": "3.12.5"
  }
 },
 "nbformat": 4,
 "nbformat_minor": 5
}
