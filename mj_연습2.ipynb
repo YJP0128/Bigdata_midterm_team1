{
 "cells": [
  {
   "cell_type": "code",
   "execution_count": null,
   "id": "d11bf50c",
   "metadata": {},
   "outputs": [],
   "source": [
    "# 데이터가 거의 문자로만 이루어져 있음\n",
    "#목표: 시군구 병합,기업과 주업종이 같은 중복은 제거, 결측치 제거하여 없음으로 채우고, 장애인채용여부 이진법으로 만들기 "
   ]
  },
  {
   "cell_type": "code",
   "execution_count": 1,
   "id": "9006f888",
   "metadata": {},
   "outputs": [],
   "source": [
    "import pandas as pd"
   ]
  },
  {
   "cell_type": "code",
   "execution_count": 41,
   "id": "b0ccf2dc",
   "metadata": {},
   "outputs": [
    {
     "ename": "FileNotFoundError",
     "evalue": "[Errno 2] No such file or directory: '장애인기업등록연습.'",
     "output_type": "error",
     "traceback": [
      "\u001b[0;31m---------------------------------------------------------------------------\u001b[0m",
      "\u001b[0;31mFileNotFoundError\u001b[0m                         Traceback (most recent call last)",
      "Cell \u001b[0;32mIn[41], line 1\u001b[0m\n\u001b[0;32m----> 1\u001b[0m df\u001b[38;5;241m=\u001b[39m \u001b[43mpd\u001b[49m\u001b[38;5;241;43m.\u001b[39;49m\u001b[43mread_csv\u001b[49m\u001b[43m(\u001b[49m\u001b[38;5;124;43m'\u001b[39;49m\u001b[38;5;124;43m장애인기업등록연습.\u001b[39;49m\u001b[38;5;124;43m'\u001b[39;49m\u001b[43m,\u001b[49m\u001b[43mencoding\u001b[49m\u001b[38;5;241;43m=\u001b[39;49m\u001b[38;5;124;43m'\u001b[39;49m\u001b[38;5;124;43mcp949\u001b[39;49m\u001b[38;5;124;43m'\u001b[39;49m\u001b[43m)\u001b[49m\n",
      "File \u001b[0;32m/Library/Frameworks/Python.framework/Versions/3.12/lib/python3.12/site-packages/pandas/io/parsers/readers.py:1026\u001b[0m, in \u001b[0;36mread_csv\u001b[0;34m(filepath_or_buffer, sep, delimiter, header, names, index_col, usecols, dtype, engine, converters, true_values, false_values, skipinitialspace, skiprows, skipfooter, nrows, na_values, keep_default_na, na_filter, verbose, skip_blank_lines, parse_dates, infer_datetime_format, keep_date_col, date_parser, date_format, dayfirst, cache_dates, iterator, chunksize, compression, thousands, decimal, lineterminator, quotechar, quoting, doublequote, escapechar, comment, encoding, encoding_errors, dialect, on_bad_lines, delim_whitespace, low_memory, memory_map, float_precision, storage_options, dtype_backend)\u001b[0m\n\u001b[1;32m   1013\u001b[0m kwds_defaults \u001b[38;5;241m=\u001b[39m _refine_defaults_read(\n\u001b[1;32m   1014\u001b[0m     dialect,\n\u001b[1;32m   1015\u001b[0m     delimiter,\n\u001b[0;32m   (...)\u001b[0m\n\u001b[1;32m   1022\u001b[0m     dtype_backend\u001b[38;5;241m=\u001b[39mdtype_backend,\n\u001b[1;32m   1023\u001b[0m )\n\u001b[1;32m   1024\u001b[0m kwds\u001b[38;5;241m.\u001b[39mupdate(kwds_defaults)\n\u001b[0;32m-> 1026\u001b[0m \u001b[38;5;28;01mreturn\u001b[39;00m \u001b[43m_read\u001b[49m\u001b[43m(\u001b[49m\u001b[43mfilepath_or_buffer\u001b[49m\u001b[43m,\u001b[49m\u001b[43m \u001b[49m\u001b[43mkwds\u001b[49m\u001b[43m)\u001b[49m\n",
      "File \u001b[0;32m/Library/Frameworks/Python.framework/Versions/3.12/lib/python3.12/site-packages/pandas/io/parsers/readers.py:620\u001b[0m, in \u001b[0;36m_read\u001b[0;34m(filepath_or_buffer, kwds)\u001b[0m\n\u001b[1;32m    617\u001b[0m _validate_names(kwds\u001b[38;5;241m.\u001b[39mget(\u001b[38;5;124m\"\u001b[39m\u001b[38;5;124mnames\u001b[39m\u001b[38;5;124m\"\u001b[39m, \u001b[38;5;28;01mNone\u001b[39;00m))\n\u001b[1;32m    619\u001b[0m \u001b[38;5;66;03m# Create the parser.\u001b[39;00m\n\u001b[0;32m--> 620\u001b[0m parser \u001b[38;5;241m=\u001b[39m \u001b[43mTextFileReader\u001b[49m\u001b[43m(\u001b[49m\u001b[43mfilepath_or_buffer\u001b[49m\u001b[43m,\u001b[49m\u001b[43m \u001b[49m\u001b[38;5;241;43m*\u001b[39;49m\u001b[38;5;241;43m*\u001b[39;49m\u001b[43mkwds\u001b[49m\u001b[43m)\u001b[49m\n\u001b[1;32m    622\u001b[0m \u001b[38;5;28;01mif\u001b[39;00m chunksize \u001b[38;5;129;01mor\u001b[39;00m iterator:\n\u001b[1;32m    623\u001b[0m     \u001b[38;5;28;01mreturn\u001b[39;00m parser\n",
      "File \u001b[0;32m/Library/Frameworks/Python.framework/Versions/3.12/lib/python3.12/site-packages/pandas/io/parsers/readers.py:1620\u001b[0m, in \u001b[0;36mTextFileReader.__init__\u001b[0;34m(self, f, engine, **kwds)\u001b[0m\n\u001b[1;32m   1617\u001b[0m     \u001b[38;5;28mself\u001b[39m\u001b[38;5;241m.\u001b[39moptions[\u001b[38;5;124m\"\u001b[39m\u001b[38;5;124mhas_index_names\u001b[39m\u001b[38;5;124m\"\u001b[39m] \u001b[38;5;241m=\u001b[39m kwds[\u001b[38;5;124m\"\u001b[39m\u001b[38;5;124mhas_index_names\u001b[39m\u001b[38;5;124m\"\u001b[39m]\n\u001b[1;32m   1619\u001b[0m \u001b[38;5;28mself\u001b[39m\u001b[38;5;241m.\u001b[39mhandles: IOHandles \u001b[38;5;241m|\u001b[39m \u001b[38;5;28;01mNone\u001b[39;00m \u001b[38;5;241m=\u001b[39m \u001b[38;5;28;01mNone\u001b[39;00m\n\u001b[0;32m-> 1620\u001b[0m \u001b[38;5;28mself\u001b[39m\u001b[38;5;241m.\u001b[39m_engine \u001b[38;5;241m=\u001b[39m \u001b[38;5;28;43mself\u001b[39;49m\u001b[38;5;241;43m.\u001b[39;49m\u001b[43m_make_engine\u001b[49m\u001b[43m(\u001b[49m\u001b[43mf\u001b[49m\u001b[43m,\u001b[49m\u001b[43m \u001b[49m\u001b[38;5;28;43mself\u001b[39;49m\u001b[38;5;241;43m.\u001b[39;49m\u001b[43mengine\u001b[49m\u001b[43m)\u001b[49m\n",
      "File \u001b[0;32m/Library/Frameworks/Python.framework/Versions/3.12/lib/python3.12/site-packages/pandas/io/parsers/readers.py:1880\u001b[0m, in \u001b[0;36mTextFileReader._make_engine\u001b[0;34m(self, f, engine)\u001b[0m\n\u001b[1;32m   1878\u001b[0m     \u001b[38;5;28;01mif\u001b[39;00m \u001b[38;5;124m\"\u001b[39m\u001b[38;5;124mb\u001b[39m\u001b[38;5;124m\"\u001b[39m \u001b[38;5;129;01mnot\u001b[39;00m \u001b[38;5;129;01min\u001b[39;00m mode:\n\u001b[1;32m   1879\u001b[0m         mode \u001b[38;5;241m+\u001b[39m\u001b[38;5;241m=\u001b[39m \u001b[38;5;124m\"\u001b[39m\u001b[38;5;124mb\u001b[39m\u001b[38;5;124m\"\u001b[39m\n\u001b[0;32m-> 1880\u001b[0m \u001b[38;5;28mself\u001b[39m\u001b[38;5;241m.\u001b[39mhandles \u001b[38;5;241m=\u001b[39m \u001b[43mget_handle\u001b[49m\u001b[43m(\u001b[49m\n\u001b[1;32m   1881\u001b[0m \u001b[43m    \u001b[49m\u001b[43mf\u001b[49m\u001b[43m,\u001b[49m\n\u001b[1;32m   1882\u001b[0m \u001b[43m    \u001b[49m\u001b[43mmode\u001b[49m\u001b[43m,\u001b[49m\n\u001b[1;32m   1883\u001b[0m \u001b[43m    \u001b[49m\u001b[43mencoding\u001b[49m\u001b[38;5;241;43m=\u001b[39;49m\u001b[38;5;28;43mself\u001b[39;49m\u001b[38;5;241;43m.\u001b[39;49m\u001b[43moptions\u001b[49m\u001b[38;5;241;43m.\u001b[39;49m\u001b[43mget\u001b[49m\u001b[43m(\u001b[49m\u001b[38;5;124;43m\"\u001b[39;49m\u001b[38;5;124;43mencoding\u001b[39;49m\u001b[38;5;124;43m\"\u001b[39;49m\u001b[43m,\u001b[49m\u001b[43m \u001b[49m\u001b[38;5;28;43;01mNone\u001b[39;49;00m\u001b[43m)\u001b[49m\u001b[43m,\u001b[49m\n\u001b[1;32m   1884\u001b[0m \u001b[43m    \u001b[49m\u001b[43mcompression\u001b[49m\u001b[38;5;241;43m=\u001b[39;49m\u001b[38;5;28;43mself\u001b[39;49m\u001b[38;5;241;43m.\u001b[39;49m\u001b[43moptions\u001b[49m\u001b[38;5;241;43m.\u001b[39;49m\u001b[43mget\u001b[49m\u001b[43m(\u001b[49m\u001b[38;5;124;43m\"\u001b[39;49m\u001b[38;5;124;43mcompression\u001b[39;49m\u001b[38;5;124;43m\"\u001b[39;49m\u001b[43m,\u001b[49m\u001b[43m \u001b[49m\u001b[38;5;28;43;01mNone\u001b[39;49;00m\u001b[43m)\u001b[49m\u001b[43m,\u001b[49m\n\u001b[1;32m   1885\u001b[0m \u001b[43m    \u001b[49m\u001b[43mmemory_map\u001b[49m\u001b[38;5;241;43m=\u001b[39;49m\u001b[38;5;28;43mself\u001b[39;49m\u001b[38;5;241;43m.\u001b[39;49m\u001b[43moptions\u001b[49m\u001b[38;5;241;43m.\u001b[39;49m\u001b[43mget\u001b[49m\u001b[43m(\u001b[49m\u001b[38;5;124;43m\"\u001b[39;49m\u001b[38;5;124;43mmemory_map\u001b[39;49m\u001b[38;5;124;43m\"\u001b[39;49m\u001b[43m,\u001b[49m\u001b[43m \u001b[49m\u001b[38;5;28;43;01mFalse\u001b[39;49;00m\u001b[43m)\u001b[49m\u001b[43m,\u001b[49m\n\u001b[1;32m   1886\u001b[0m \u001b[43m    \u001b[49m\u001b[43mis_text\u001b[49m\u001b[38;5;241;43m=\u001b[39;49m\u001b[43mis_text\u001b[49m\u001b[43m,\u001b[49m\n\u001b[1;32m   1887\u001b[0m \u001b[43m    \u001b[49m\u001b[43merrors\u001b[49m\u001b[38;5;241;43m=\u001b[39;49m\u001b[38;5;28;43mself\u001b[39;49m\u001b[38;5;241;43m.\u001b[39;49m\u001b[43moptions\u001b[49m\u001b[38;5;241;43m.\u001b[39;49m\u001b[43mget\u001b[49m\u001b[43m(\u001b[49m\u001b[38;5;124;43m\"\u001b[39;49m\u001b[38;5;124;43mencoding_errors\u001b[39;49m\u001b[38;5;124;43m\"\u001b[39;49m\u001b[43m,\u001b[49m\u001b[43m \u001b[49m\u001b[38;5;124;43m\"\u001b[39;49m\u001b[38;5;124;43mstrict\u001b[39;49m\u001b[38;5;124;43m\"\u001b[39;49m\u001b[43m)\u001b[49m\u001b[43m,\u001b[49m\n\u001b[1;32m   1888\u001b[0m \u001b[43m    \u001b[49m\u001b[43mstorage_options\u001b[49m\u001b[38;5;241;43m=\u001b[39;49m\u001b[38;5;28;43mself\u001b[39;49m\u001b[38;5;241;43m.\u001b[39;49m\u001b[43moptions\u001b[49m\u001b[38;5;241;43m.\u001b[39;49m\u001b[43mget\u001b[49m\u001b[43m(\u001b[49m\u001b[38;5;124;43m\"\u001b[39;49m\u001b[38;5;124;43mstorage_options\u001b[39;49m\u001b[38;5;124;43m\"\u001b[39;49m\u001b[43m,\u001b[49m\u001b[43m \u001b[49m\u001b[38;5;28;43;01mNone\u001b[39;49;00m\u001b[43m)\u001b[49m\u001b[43m,\u001b[49m\n\u001b[1;32m   1889\u001b[0m \u001b[43m\u001b[49m\u001b[43m)\u001b[49m\n\u001b[1;32m   1890\u001b[0m \u001b[38;5;28;01massert\u001b[39;00m \u001b[38;5;28mself\u001b[39m\u001b[38;5;241m.\u001b[39mhandles \u001b[38;5;129;01mis\u001b[39;00m \u001b[38;5;129;01mnot\u001b[39;00m \u001b[38;5;28;01mNone\u001b[39;00m\n\u001b[1;32m   1891\u001b[0m f \u001b[38;5;241m=\u001b[39m \u001b[38;5;28mself\u001b[39m\u001b[38;5;241m.\u001b[39mhandles\u001b[38;5;241m.\u001b[39mhandle\n",
      "File \u001b[0;32m/Library/Frameworks/Python.framework/Versions/3.12/lib/python3.12/site-packages/pandas/io/common.py:873\u001b[0m, in \u001b[0;36mget_handle\u001b[0;34m(path_or_buf, mode, encoding, compression, memory_map, is_text, errors, storage_options)\u001b[0m\n\u001b[1;32m    868\u001b[0m \u001b[38;5;28;01melif\u001b[39;00m \u001b[38;5;28misinstance\u001b[39m(handle, \u001b[38;5;28mstr\u001b[39m):\n\u001b[1;32m    869\u001b[0m     \u001b[38;5;66;03m# Check whether the filename is to be opened in binary mode.\u001b[39;00m\n\u001b[1;32m    870\u001b[0m     \u001b[38;5;66;03m# Binary mode does not support 'encoding' and 'newline'.\u001b[39;00m\n\u001b[1;32m    871\u001b[0m     \u001b[38;5;28;01mif\u001b[39;00m ioargs\u001b[38;5;241m.\u001b[39mencoding \u001b[38;5;129;01mand\u001b[39;00m \u001b[38;5;124m\"\u001b[39m\u001b[38;5;124mb\u001b[39m\u001b[38;5;124m\"\u001b[39m \u001b[38;5;129;01mnot\u001b[39;00m \u001b[38;5;129;01min\u001b[39;00m ioargs\u001b[38;5;241m.\u001b[39mmode:\n\u001b[1;32m    872\u001b[0m         \u001b[38;5;66;03m# Encoding\u001b[39;00m\n\u001b[0;32m--> 873\u001b[0m         handle \u001b[38;5;241m=\u001b[39m \u001b[38;5;28;43mopen\u001b[39;49m\u001b[43m(\u001b[49m\n\u001b[1;32m    874\u001b[0m \u001b[43m            \u001b[49m\u001b[43mhandle\u001b[49m\u001b[43m,\u001b[49m\n\u001b[1;32m    875\u001b[0m \u001b[43m            \u001b[49m\u001b[43mioargs\u001b[49m\u001b[38;5;241;43m.\u001b[39;49m\u001b[43mmode\u001b[49m\u001b[43m,\u001b[49m\n\u001b[1;32m    876\u001b[0m \u001b[43m            \u001b[49m\u001b[43mencoding\u001b[49m\u001b[38;5;241;43m=\u001b[39;49m\u001b[43mioargs\u001b[49m\u001b[38;5;241;43m.\u001b[39;49m\u001b[43mencoding\u001b[49m\u001b[43m,\u001b[49m\n\u001b[1;32m    877\u001b[0m \u001b[43m            \u001b[49m\u001b[43merrors\u001b[49m\u001b[38;5;241;43m=\u001b[39;49m\u001b[43merrors\u001b[49m\u001b[43m,\u001b[49m\n\u001b[1;32m    878\u001b[0m \u001b[43m            \u001b[49m\u001b[43mnewline\u001b[49m\u001b[38;5;241;43m=\u001b[39;49m\u001b[38;5;124;43m\"\u001b[39;49m\u001b[38;5;124;43m\"\u001b[39;49m\u001b[43m,\u001b[49m\n\u001b[1;32m    879\u001b[0m \u001b[43m        \u001b[49m\u001b[43m)\u001b[49m\n\u001b[1;32m    880\u001b[0m     \u001b[38;5;28;01melse\u001b[39;00m:\n\u001b[1;32m    881\u001b[0m         \u001b[38;5;66;03m# Binary mode\u001b[39;00m\n\u001b[1;32m    882\u001b[0m         handle \u001b[38;5;241m=\u001b[39m \u001b[38;5;28mopen\u001b[39m(handle, ioargs\u001b[38;5;241m.\u001b[39mmode)\n",
      "\u001b[0;31mFileNotFoundError\u001b[0m: [Errno 2] No such file or directory: '장애인기업등록연습.'"
     ]
    }
   ],
   "source": [
    "df= pd.read_csv('장애인기업등록연습.',encoding='cp949')"
   ]
  },
  {
   "cell_type": "code",
   "execution_count": 11,
   "id": "fc4576bd",
   "metadata": {},
   "outputs": [
    {
     "name": "stdout",
     "output_type": "stream",
     "text": [
      "<class 'pandas.core.frame.DataFrame'>\n",
      "RangeIndex: 5920 entries, 0 to 5919\n",
      "Data columns (total 6 columns):\n",
      " #   Column   Non-Null Count  Dtype \n",
      "---  ------   --------------  ----- \n",
      " 0   업체명      5919 non-null   object\n",
      " 1   사업자등록번호  5919 non-null   object\n",
      " 2   주업종      5919 non-null   object\n",
      " 3   주요 생산품목  5775 non-null   object\n",
      " 4   소재지      5770 non-null   object\n",
      " 5   전화번호     5775 non-null   object\n",
      "dtypes: object(6)\n",
      "memory usage: 277.6+ KB\n"
     ]
    }
   ],
   "source": [
    "df.info()"
   ]
  },
  {
   "cell_type": "code",
   "execution_count": 10,
   "id": "a00858bd",
   "metadata": {},
   "outputs": [
    {
     "data": {
      "text/html": [
       "<div>\n",
       "<style scoped>\n",
       "    .dataframe tbody tr th:only-of-type {\n",
       "        vertical-align: middle;\n",
       "    }\n",
       "\n",
       "    .dataframe tbody tr th {\n",
       "        vertical-align: top;\n",
       "    }\n",
       "\n",
       "    .dataframe thead th {\n",
       "        text-align: right;\n",
       "    }\n",
       "</style>\n",
       "<table border=\"1\" class=\"dataframe\">\n",
       "  <thead>\n",
       "    <tr style=\"text-align: right;\">\n",
       "      <th></th>\n",
       "      <th>업체명</th>\n",
       "      <th>사업자등록번호</th>\n",
       "      <th>주업종</th>\n",
       "      <th>주요 생산품목</th>\n",
       "      <th>소재지</th>\n",
       "      <th>전화번호</th>\n",
       "    </tr>\n",
       "  </thead>\n",
       "  <tbody>\n",
       "    <tr>\n",
       "      <th>0</th>\n",
       "      <td>(주)용봉</td>\n",
       "      <td>4098612070</td>\n",
       "      <td>도매 및 소매업</td>\n",
       "      <td>도.소매</td>\n",
       "      <td>광주광역시 북구 저불로73번길 6-3앞쪽정문 (용봉동)</td>\n",
       "      <td>062-266-4556</td>\n",
       "    </tr>\n",
       "    <tr>\n",
       "      <th>1</th>\n",
       "      <td>수창커튼</td>\n",
       "      <td>4100815875</td>\n",
       "      <td>도매 및 소매업</td>\n",
       "      <td>커튼 및 천막</td>\n",
       "      <td>광주광역시 서구 천변좌로 243양동 나2-51 (양동)</td>\n",
       "      <td>062-368-9653</td>\n",
       "    </tr>\n",
       "    <tr>\n",
       "      <th>2</th>\n",
       "      <td>(주)고원공간정보</td>\n",
       "      <td>1238137487</td>\n",
       "      <td>전문 과학 및 기술 서비스업</td>\n",
       "      <td>측량</td>\n",
       "      <td>전라북도 전주시 덕진구 무삼지로 214층</td>\n",
       "      <td>063-243-0329</td>\n",
       "    </tr>\n",
       "    <tr>\n",
       "      <th>3</th>\n",
       "      <td>(주)기원전자</td>\n",
       "      <td>4038101231</td>\n",
       "      <td>그 밖의 제품 제조업</td>\n",
       "      <td>컨트롤러 센서 스위치 외 전장품</td>\n",
       "      <td>전라북도 익산시 보석로6길 109(신흥동 740-33)</td>\n",
       "      <td>063-833-0111</td>\n",
       "    </tr>\n",
       "    <tr>\n",
       "      <th>4</th>\n",
       "      <td>(주)지정건설</td>\n",
       "      <td>5108122010</td>\n",
       "      <td>건설업</td>\n",
       "      <td>건설업</td>\n",
       "      <td>전라북도 전주시 완산구 선너머3길 9</td>\n",
       "      <td>063-273-9122</td>\n",
       "    </tr>\n",
       "  </tbody>\n",
       "</table>\n",
       "</div>"
      ],
      "text/plain": [
       "         업체명     사업자등록번호              주업종            주요 생산품목  \\\n",
       "0      (주)용봉  4098612070         도매 및 소매업               도.소매   \n",
       "1       수창커튼  4100815875         도매 및 소매업            커튼 및 천막   \n",
       "2  (주)고원공간정보  1238137487  전문 과학 및 기술 서비스업                 측량   \n",
       "3    (주)기원전자  4038101231      그 밖의 제품 제조업  컨트롤러 센서 스위치 외 전장품   \n",
       "4    (주)지정건설  5108122010              건설업                건설업   \n",
       "\n",
       "                              소재지          전화번호  \n",
       "0  광주광역시 북구 저불로73번길 6-3앞쪽정문 (용봉동)  062-266-4556  \n",
       "1  광주광역시 서구 천변좌로 243양동 나2-51 (양동)  062-368-9653  \n",
       "2          전라북도 전주시 덕진구 무삼지로 214층  063-243-0329  \n",
       "3  전라북도 익산시 보석로6길 109(신흥동 740-33)  063-833-0111  \n",
       "4            전라북도 전주시 완산구 선너머3길 9  063-273-9122  "
      ]
     },
     "execution_count": 10,
     "metadata": {},
     "output_type": "execute_result"
    }
   ],
   "source": [
    "df.head()"
   ]
  },
  {
   "cell_type": "code",
   "execution_count": null,
   "id": "bd9fad9c",
   "metadata": {},
   "outputs": [],
   "source": [
    "df= df.drop_duplicates(subset=['업체명','주업종']) #업체랑 주업종 겹치는 중복 제거"
   ]
  },
  {
   "cell_type": "code",
   "execution_count": 15,
   "id": "3bae28f0",
   "metadata": {},
   "outputs": [],
   "source": [
    "df= df.drop(columns=['사업자등록번호'])"
   ]
  },
  {
   "cell_type": "code",
   "execution_count": 16,
   "id": "26f61d6c",
   "metadata": {},
   "outputs": [],
   "source": [
    "def extract_sigungu(address): #소재지에서 각 시군구 추출\n",
    "    try:\n",
    "        return ' '.join(address.split()[:2]) #앞에 두 단어만 추출하여 병합하기 위한 과정(시 군구만 추출)\n",
    "    except:\n",
    "        return '없음'\n",
    "\n",
    "df['시군구'] = df['소재지'].apply(extract_sigungu)"
   ]
  },
  {
   "cell_type": "code",
   "execution_count": 34,
   "id": "d9902be3",
   "metadata": {},
   "outputs": [
    {
     "name": "stdout",
     "output_type": "stream",
     "text": [
      "업체명        0.0\n",
      "주업종        0.0\n",
      "주요 생산품목    0.0\n",
      "소재지        0.0\n",
      "전화번호       0.0\n",
      "시군구        0.0\n",
      "장애인채용여부    0.0\n",
      "dtype: float64\n"
     ]
    }
   ],
   "source": [
    "print(df.isnull().sum()/len(df)*100) #결측치 확인 "
   ]
  },
  {
   "cell_type": "code",
   "execution_count": 32,
   "id": "045db425",
   "metadata": {},
   "outputs": [],
   "source": [
    "df = df.fillna('없음')#결측치 모두 없음으로 채우기 "
   ]
  },
  {
   "cell_type": "code",
   "execution_count": 33,
   "id": "9ff5e7c0",
   "metadata": {},
   "outputs": [
    {
     "data": {
      "text/html": [
       "<div>\n",
       "<style scoped>\n",
       "    .dataframe tbody tr th:only-of-type {\n",
       "        vertical-align: middle;\n",
       "    }\n",
       "\n",
       "    .dataframe tbody tr th {\n",
       "        vertical-align: top;\n",
       "    }\n",
       "\n",
       "    .dataframe thead th {\n",
       "        text-align: right;\n",
       "    }\n",
       "</style>\n",
       "<table border=\"1\" class=\"dataframe\">\n",
       "  <thead>\n",
       "    <tr style=\"text-align: right;\">\n",
       "      <th></th>\n",
       "      <th>업체명</th>\n",
       "      <th>주업종</th>\n",
       "      <th>주요 생산품목</th>\n",
       "      <th>소재지</th>\n",
       "      <th>전화번호</th>\n",
       "      <th>시군구</th>\n",
       "      <th>장애인채용여부</th>\n",
       "    </tr>\n",
       "  </thead>\n",
       "  <tbody>\n",
       "    <tr>\n",
       "      <th>0</th>\n",
       "      <td>(주)용봉</td>\n",
       "      <td>도매 및 소매업</td>\n",
       "      <td>도.소매</td>\n",
       "      <td>광주광역시 북구 저불로73번길 6-3앞쪽정문 (용봉동)</td>\n",
       "      <td>062-266-4556</td>\n",
       "      <td>광주광역시 북구</td>\n",
       "      <td>0.0</td>\n",
       "    </tr>\n",
       "    <tr>\n",
       "      <th>1</th>\n",
       "      <td>수창커튼</td>\n",
       "      <td>도매 및 소매업</td>\n",
       "      <td>커튼 및 천막</td>\n",
       "      <td>광주광역시 서구 천변좌로 243양동 나2-51 (양동)</td>\n",
       "      <td>062-368-9653</td>\n",
       "      <td>광주광역시 서구</td>\n",
       "      <td>0.0</td>\n",
       "    </tr>\n",
       "    <tr>\n",
       "      <th>2</th>\n",
       "      <td>(주)고원공간정보</td>\n",
       "      <td>전문 과학 및 기술 서비스업</td>\n",
       "      <td>측량</td>\n",
       "      <td>전라북도 전주시 덕진구 무삼지로 214층</td>\n",
       "      <td>063-243-0329</td>\n",
       "      <td>전라북도 전주시</td>\n",
       "      <td>0.0</td>\n",
       "    </tr>\n",
       "    <tr>\n",
       "      <th>3</th>\n",
       "      <td>(주)기원전자</td>\n",
       "      <td>그 밖의 제품 제조업</td>\n",
       "      <td>컨트롤러 센서 스위치 외 전장품</td>\n",
       "      <td>전라북도 익산시 보석로6길 109(신흥동 740-33)</td>\n",
       "      <td>063-833-0111</td>\n",
       "      <td>전라북도 익산시</td>\n",
       "      <td>0.0</td>\n",
       "    </tr>\n",
       "    <tr>\n",
       "      <th>4</th>\n",
       "      <td>(주)지정건설</td>\n",
       "      <td>건설업</td>\n",
       "      <td>건설업</td>\n",
       "      <td>전라북도 전주시 완산구 선너머3길 9</td>\n",
       "      <td>063-273-9122</td>\n",
       "      <td>전라북도 전주시</td>\n",
       "      <td>0.0</td>\n",
       "    </tr>\n",
       "  </tbody>\n",
       "</table>\n",
       "</div>"
      ],
      "text/plain": [
       "         업체명              주업종            주요 생산품목  \\\n",
       "0      (주)용봉         도매 및 소매업               도.소매   \n",
       "1       수창커튼         도매 및 소매업            커튼 및 천막   \n",
       "2  (주)고원공간정보  전문 과학 및 기술 서비스업                 측량   \n",
       "3    (주)기원전자      그 밖의 제품 제조업  컨트롤러 센서 스위치 외 전장품   \n",
       "4    (주)지정건설              건설업                건설업   \n",
       "\n",
       "                              소재지          전화번호       시군구  장애인채용여부  \n",
       "0  광주광역시 북구 저불로73번길 6-3앞쪽정문 (용봉동)  062-266-4556  광주광역시 북구      0.0  \n",
       "1  광주광역시 서구 천변좌로 243양동 나2-51 (양동)  062-368-9653  광주광역시 서구      0.0  \n",
       "2          전라북도 전주시 덕진구 무삼지로 214층  063-243-0329  전라북도 전주시      0.0  \n",
       "3  전라북도 익산시 보석로6길 109(신흥동 740-33)  063-833-0111  전라북도 익산시      0.0  \n",
       "4            전라북도 전주시 완산구 선너머3길 9  063-273-9122  전라북도 전주시      0.0  "
      ]
     },
     "execution_count": 33,
     "metadata": {},
     "output_type": "execute_result"
    }
   ],
   "source": [
    "df.head()"
   ]
  },
  {
   "cell_type": "code",
   "execution_count": null,
   "id": "38de7830",
   "metadata": {},
   "outputs": [],
   "source": [
    "df['장애인채용여부'] = 'Yes' #장애인 채용여부 칼럼새로 생성하여 모두 채용한다고 채움\n",
    "df['장애인채용여부'] = df['장애인채용여부'].map({'Yes': 1})"
   ]
  },
  {
   "cell_type": "code",
   "execution_count": null,
   "id": "a07166a6",
   "metadata": {},
   "outputs": [],
   "source": [
    "from sklearn.preprocessing import MinMaxScaler #정규화(할게 장애인채용여부밖에없,,,)\n",
    "\n",
    "scaler = MinMaxScaler()\n",
    "df[['장애인채용여부']] = scaler.fit_transform(df[['장애인채용여부']])"
   ]
  },
  {
   "cell_type": "code",
   "execution_count": 40,
   "id": "eb73668a",
   "metadata": {},
   "outputs": [
    {
     "data": {
      "text/html": [
       "<div>\n",
       "<style scoped>\n",
       "    .dataframe tbody tr th:only-of-type {\n",
       "        vertical-align: middle;\n",
       "    }\n",
       "\n",
       "    .dataframe tbody tr th {\n",
       "        vertical-align: top;\n",
       "    }\n",
       "\n",
       "    .dataframe thead th {\n",
       "        text-align: right;\n",
       "    }\n",
       "</style>\n",
       "<table border=\"1\" class=\"dataframe\">\n",
       "  <thead>\n",
       "    <tr style=\"text-align: right;\">\n",
       "      <th></th>\n",
       "      <th>업체명</th>\n",
       "      <th>주업종</th>\n",
       "      <th>주요 생산품목</th>\n",
       "      <th>소재지</th>\n",
       "      <th>전화번호</th>\n",
       "      <th>시군구</th>\n",
       "      <th>장애인채용여부</th>\n",
       "    </tr>\n",
       "  </thead>\n",
       "  <tbody>\n",
       "    <tr>\n",
       "      <th>0</th>\n",
       "      <td>(주)용봉</td>\n",
       "      <td>도매 및 소매업</td>\n",
       "      <td>도.소매</td>\n",
       "      <td>광주광역시 북구 저불로73번길 6-3앞쪽정문 (용봉동)</td>\n",
       "      <td>062-266-4556</td>\n",
       "      <td>광주광역시 북구</td>\n",
       "      <td>0.0</td>\n",
       "    </tr>\n",
       "    <tr>\n",
       "      <th>1</th>\n",
       "      <td>수창커튼</td>\n",
       "      <td>도매 및 소매업</td>\n",
       "      <td>커튼 및 천막</td>\n",
       "      <td>광주광역시 서구 천변좌로 243양동 나2-51 (양동)</td>\n",
       "      <td>062-368-9653</td>\n",
       "      <td>광주광역시 서구</td>\n",
       "      <td>0.0</td>\n",
       "    </tr>\n",
       "    <tr>\n",
       "      <th>2</th>\n",
       "      <td>(주)고원공간정보</td>\n",
       "      <td>전문 과학 및 기술 서비스업</td>\n",
       "      <td>측량</td>\n",
       "      <td>전라북도 전주시 덕진구 무삼지로 214층</td>\n",
       "      <td>063-243-0329</td>\n",
       "      <td>전라북도 전주시</td>\n",
       "      <td>0.0</td>\n",
       "    </tr>\n",
       "    <tr>\n",
       "      <th>3</th>\n",
       "      <td>(주)기원전자</td>\n",
       "      <td>그 밖의 제품 제조업</td>\n",
       "      <td>컨트롤러 센서 스위치 외 전장품</td>\n",
       "      <td>전라북도 익산시 보석로6길 109(신흥동 740-33)</td>\n",
       "      <td>063-833-0111</td>\n",
       "      <td>전라북도 익산시</td>\n",
       "      <td>0.0</td>\n",
       "    </tr>\n",
       "    <tr>\n",
       "      <th>4</th>\n",
       "      <td>(주)지정건설</td>\n",
       "      <td>건설업</td>\n",
       "      <td>건설업</td>\n",
       "      <td>전라북도 전주시 완산구 선너머3길 9</td>\n",
       "      <td>063-273-9122</td>\n",
       "      <td>전라북도 전주시</td>\n",
       "      <td>0.0</td>\n",
       "    </tr>\n",
       "  </tbody>\n",
       "</table>\n",
       "</div>"
      ],
      "text/plain": [
       "         업체명              주업종            주요 생산품목  \\\n",
       "0      (주)용봉         도매 및 소매업               도.소매   \n",
       "1       수창커튼         도매 및 소매업            커튼 및 천막   \n",
       "2  (주)고원공간정보  전문 과학 및 기술 서비스업                 측량   \n",
       "3    (주)기원전자      그 밖의 제품 제조업  컨트롤러 센서 스위치 외 전장품   \n",
       "4    (주)지정건설              건설업                건설업   \n",
       "\n",
       "                              소재지          전화번호       시군구  장애인채용여부  \n",
       "0  광주광역시 북구 저불로73번길 6-3앞쪽정문 (용봉동)  062-266-4556  광주광역시 북구      0.0  \n",
       "1  광주광역시 서구 천변좌로 243양동 나2-51 (양동)  062-368-9653  광주광역시 서구      0.0  \n",
       "2          전라북도 전주시 덕진구 무삼지로 214층  063-243-0329  전라북도 전주시      0.0  \n",
       "3  전라북도 익산시 보석로6길 109(신흥동 740-33)  063-833-0111  전라북도 익산시      0.0  \n",
       "4            전라북도 전주시 완산구 선너머3길 9  063-273-9122  전라북도 전주시      0.0  "
      ]
     },
     "execution_count": 40,
     "metadata": {},
     "output_type": "execute_result"
    }
   ],
   "source": [
    "df.head()"
   ]
  }
 ],
 "metadata": {
  "kernelspec": {
   "display_name": "Python 3",
   "language": "python",
   "name": "python3"
  },
  "language_info": {
   "codemirror_mode": {
    "name": "ipython",
    "version": 3
   },
   "file_extension": ".py",
   "mimetype": "text/x-python",
   "name": "python",
   "nbconvert_exporter": "python",
   "pygments_lexer": "ipython3",
   "version": "3.12.5"
  }
 },
 "nbformat": 4,
 "nbformat_minor": 5
}
