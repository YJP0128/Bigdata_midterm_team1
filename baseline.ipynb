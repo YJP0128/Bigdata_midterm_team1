{
 "cells": [
  {
   "cell_type": "markdown",
   "id": "434d86a0",
   "metadata": {},
   "source": [
    "# baseline code\n",
    "### 250426"
   ]
  },
  {
   "cell_type": "code",
   "execution_count": 1,
   "id": "33495325",
   "metadata": {},
   "outputs": [
    {
     "ename": "FileNotFoundError",
     "evalue": "[Errno 2] No such file or directory: '../data/국민건강보험공단_건강검진정보_2023.CSV'",
     "output_type": "error",
     "traceback": [
      "\u001b[0;31m---------------------------------------------------------------------------\u001b[0m",
      "\u001b[0;31mFileNotFoundError\u001b[0m                         Traceback (most recent call last)",
      "Cell \u001b[0;32mIn[1], line 4\u001b[0m\n\u001b[1;32m      1\u001b[0m \u001b[38;5;28;01mimport\u001b[39;00m\u001b[38;5;250m \u001b[39m\u001b[38;5;21;01mpandas\u001b[39;00m\u001b[38;5;250m \u001b[39m\u001b[38;5;28;01mas\u001b[39;00m\u001b[38;5;250m \u001b[39m\u001b[38;5;21;01mpd\u001b[39;00m\n\u001b[1;32m      2\u001b[0m \u001b[38;5;66;03m# ../ 는 상위디렉토리로 올라가는거. 그 안에 data폴더에 있는 우리가 쓰는 데이터를 활용하는 방식\u001b[39;00m\n\u001b[1;32m      3\u001b[0m \u001b[38;5;66;03m# encoding은 cp949 ,utf-8 아니면 없이 하면 작동하니까 당황하지 않기\u001b[39;00m\n\u001b[0;32m----> 4\u001b[0m df \u001b[38;5;241m=\u001b[39m \u001b[43mpd\u001b[49m\u001b[38;5;241;43m.\u001b[39;49m\u001b[43mread_csv\u001b[49m\u001b[43m(\u001b[49m\u001b[38;5;124;43m'\u001b[39;49m\u001b[38;5;124;43m../data/국민건강보험공단_건강검진정보_2023.CSV\u001b[39;49m\u001b[38;5;124;43m'\u001b[39;49m\u001b[43m,\u001b[49m\u001b[43m \u001b[49m\u001b[43mencoding\u001b[49m\u001b[38;5;241;43m=\u001b[39;49m\u001b[43m \u001b[49m\u001b[38;5;124;43m'\u001b[39;49m\u001b[38;5;124;43mcp949\u001b[39;49m\u001b[38;5;124;43m'\u001b[39;49m\u001b[43m)\u001b[49m\n",
      "File \u001b[0;32m/opt/anaconda3/envs/bigdata/lib/python3.8/site-packages/pandas/io/parsers/readers.py:912\u001b[0m, in \u001b[0;36mread_csv\u001b[0;34m(filepath_or_buffer, sep, delimiter, header, names, index_col, usecols, dtype, engine, converters, true_values, false_values, skipinitialspace, skiprows, skipfooter, nrows, na_values, keep_default_na, na_filter, verbose, skip_blank_lines, parse_dates, infer_datetime_format, keep_date_col, date_parser, date_format, dayfirst, cache_dates, iterator, chunksize, compression, thousands, decimal, lineterminator, quotechar, quoting, doublequote, escapechar, comment, encoding, encoding_errors, dialect, on_bad_lines, delim_whitespace, low_memory, memory_map, float_precision, storage_options, dtype_backend)\u001b[0m\n\u001b[1;32m    899\u001b[0m kwds_defaults \u001b[38;5;241m=\u001b[39m _refine_defaults_read(\n\u001b[1;32m    900\u001b[0m     dialect,\n\u001b[1;32m    901\u001b[0m     delimiter,\n\u001b[0;32m   (...)\u001b[0m\n\u001b[1;32m    908\u001b[0m     dtype_backend\u001b[38;5;241m=\u001b[39mdtype_backend,\n\u001b[1;32m    909\u001b[0m )\n\u001b[1;32m    910\u001b[0m kwds\u001b[38;5;241m.\u001b[39mupdate(kwds_defaults)\n\u001b[0;32m--> 912\u001b[0m \u001b[38;5;28;01mreturn\u001b[39;00m \u001b[43m_read\u001b[49m\u001b[43m(\u001b[49m\u001b[43mfilepath_or_buffer\u001b[49m\u001b[43m,\u001b[49m\u001b[43m \u001b[49m\u001b[43mkwds\u001b[49m\u001b[43m)\u001b[49m\n",
      "File \u001b[0;32m/opt/anaconda3/envs/bigdata/lib/python3.8/site-packages/pandas/io/parsers/readers.py:577\u001b[0m, in \u001b[0;36m_read\u001b[0;34m(filepath_or_buffer, kwds)\u001b[0m\n\u001b[1;32m    574\u001b[0m _validate_names(kwds\u001b[38;5;241m.\u001b[39mget(\u001b[38;5;124m\"\u001b[39m\u001b[38;5;124mnames\u001b[39m\u001b[38;5;124m\"\u001b[39m, \u001b[38;5;28;01mNone\u001b[39;00m))\n\u001b[1;32m    576\u001b[0m \u001b[38;5;66;03m# Create the parser.\u001b[39;00m\n\u001b[0;32m--> 577\u001b[0m parser \u001b[38;5;241m=\u001b[39m \u001b[43mTextFileReader\u001b[49m\u001b[43m(\u001b[49m\u001b[43mfilepath_or_buffer\u001b[49m\u001b[43m,\u001b[49m\u001b[43m \u001b[49m\u001b[38;5;241;43m*\u001b[39;49m\u001b[38;5;241;43m*\u001b[39;49m\u001b[43mkwds\u001b[49m\u001b[43m)\u001b[49m\n\u001b[1;32m    579\u001b[0m \u001b[38;5;28;01mif\u001b[39;00m chunksize \u001b[38;5;129;01mor\u001b[39;00m iterator:\n\u001b[1;32m    580\u001b[0m     \u001b[38;5;28;01mreturn\u001b[39;00m parser\n",
      "File \u001b[0;32m/opt/anaconda3/envs/bigdata/lib/python3.8/site-packages/pandas/io/parsers/readers.py:1407\u001b[0m, in \u001b[0;36mTextFileReader.__init__\u001b[0;34m(self, f, engine, **kwds)\u001b[0m\n\u001b[1;32m   1404\u001b[0m     \u001b[38;5;28mself\u001b[39m\u001b[38;5;241m.\u001b[39moptions[\u001b[38;5;124m\"\u001b[39m\u001b[38;5;124mhas_index_names\u001b[39m\u001b[38;5;124m\"\u001b[39m] \u001b[38;5;241m=\u001b[39m kwds[\u001b[38;5;124m\"\u001b[39m\u001b[38;5;124mhas_index_names\u001b[39m\u001b[38;5;124m\"\u001b[39m]\n\u001b[1;32m   1406\u001b[0m \u001b[38;5;28mself\u001b[39m\u001b[38;5;241m.\u001b[39mhandles: IOHandles \u001b[38;5;241m|\u001b[39m \u001b[38;5;28;01mNone\u001b[39;00m \u001b[38;5;241m=\u001b[39m \u001b[38;5;28;01mNone\u001b[39;00m\n\u001b[0;32m-> 1407\u001b[0m \u001b[38;5;28mself\u001b[39m\u001b[38;5;241m.\u001b[39m_engine \u001b[38;5;241m=\u001b[39m \u001b[38;5;28;43mself\u001b[39;49m\u001b[38;5;241;43m.\u001b[39;49m\u001b[43m_make_engine\u001b[49m\u001b[43m(\u001b[49m\u001b[43mf\u001b[49m\u001b[43m,\u001b[49m\u001b[43m \u001b[49m\u001b[38;5;28;43mself\u001b[39;49m\u001b[38;5;241;43m.\u001b[39;49m\u001b[43mengine\u001b[49m\u001b[43m)\u001b[49m\n",
      "File \u001b[0;32m/opt/anaconda3/envs/bigdata/lib/python3.8/site-packages/pandas/io/parsers/readers.py:1661\u001b[0m, in \u001b[0;36mTextFileReader._make_engine\u001b[0;34m(self, f, engine)\u001b[0m\n\u001b[1;32m   1659\u001b[0m     \u001b[38;5;28;01mif\u001b[39;00m \u001b[38;5;124m\"\u001b[39m\u001b[38;5;124mb\u001b[39m\u001b[38;5;124m\"\u001b[39m \u001b[38;5;129;01mnot\u001b[39;00m \u001b[38;5;129;01min\u001b[39;00m mode:\n\u001b[1;32m   1660\u001b[0m         mode \u001b[38;5;241m+\u001b[39m\u001b[38;5;241m=\u001b[39m \u001b[38;5;124m\"\u001b[39m\u001b[38;5;124mb\u001b[39m\u001b[38;5;124m\"\u001b[39m\n\u001b[0;32m-> 1661\u001b[0m \u001b[38;5;28mself\u001b[39m\u001b[38;5;241m.\u001b[39mhandles \u001b[38;5;241m=\u001b[39m \u001b[43mget_handle\u001b[49m\u001b[43m(\u001b[49m\n\u001b[1;32m   1662\u001b[0m \u001b[43m    \u001b[49m\u001b[43mf\u001b[49m\u001b[43m,\u001b[49m\n\u001b[1;32m   1663\u001b[0m \u001b[43m    \u001b[49m\u001b[43mmode\u001b[49m\u001b[43m,\u001b[49m\n\u001b[1;32m   1664\u001b[0m \u001b[43m    \u001b[49m\u001b[43mencoding\u001b[49m\u001b[38;5;241;43m=\u001b[39;49m\u001b[38;5;28;43mself\u001b[39;49m\u001b[38;5;241;43m.\u001b[39;49m\u001b[43moptions\u001b[49m\u001b[38;5;241;43m.\u001b[39;49m\u001b[43mget\u001b[49m\u001b[43m(\u001b[49m\u001b[38;5;124;43m\"\u001b[39;49m\u001b[38;5;124;43mencoding\u001b[39;49m\u001b[38;5;124;43m\"\u001b[39;49m\u001b[43m,\u001b[49m\u001b[43m \u001b[49m\u001b[38;5;28;43;01mNone\u001b[39;49;00m\u001b[43m)\u001b[49m\u001b[43m,\u001b[49m\n\u001b[1;32m   1665\u001b[0m \u001b[43m    \u001b[49m\u001b[43mcompression\u001b[49m\u001b[38;5;241;43m=\u001b[39;49m\u001b[38;5;28;43mself\u001b[39;49m\u001b[38;5;241;43m.\u001b[39;49m\u001b[43moptions\u001b[49m\u001b[38;5;241;43m.\u001b[39;49m\u001b[43mget\u001b[49m\u001b[43m(\u001b[49m\u001b[38;5;124;43m\"\u001b[39;49m\u001b[38;5;124;43mcompression\u001b[39;49m\u001b[38;5;124;43m\"\u001b[39;49m\u001b[43m,\u001b[49m\u001b[43m \u001b[49m\u001b[38;5;28;43;01mNone\u001b[39;49;00m\u001b[43m)\u001b[49m\u001b[43m,\u001b[49m\n\u001b[1;32m   1666\u001b[0m \u001b[43m    \u001b[49m\u001b[43mmemory_map\u001b[49m\u001b[38;5;241;43m=\u001b[39;49m\u001b[38;5;28;43mself\u001b[39;49m\u001b[38;5;241;43m.\u001b[39;49m\u001b[43moptions\u001b[49m\u001b[38;5;241;43m.\u001b[39;49m\u001b[43mget\u001b[49m\u001b[43m(\u001b[49m\u001b[38;5;124;43m\"\u001b[39;49m\u001b[38;5;124;43mmemory_map\u001b[39;49m\u001b[38;5;124;43m\"\u001b[39;49m\u001b[43m,\u001b[49m\u001b[43m \u001b[49m\u001b[38;5;28;43;01mFalse\u001b[39;49;00m\u001b[43m)\u001b[49m\u001b[43m,\u001b[49m\n\u001b[1;32m   1667\u001b[0m \u001b[43m    \u001b[49m\u001b[43mis_text\u001b[49m\u001b[38;5;241;43m=\u001b[39;49m\u001b[43mis_text\u001b[49m\u001b[43m,\u001b[49m\n\u001b[1;32m   1668\u001b[0m \u001b[43m    \u001b[49m\u001b[43merrors\u001b[49m\u001b[38;5;241;43m=\u001b[39;49m\u001b[38;5;28;43mself\u001b[39;49m\u001b[38;5;241;43m.\u001b[39;49m\u001b[43moptions\u001b[49m\u001b[38;5;241;43m.\u001b[39;49m\u001b[43mget\u001b[49m\u001b[43m(\u001b[49m\u001b[38;5;124;43m\"\u001b[39;49m\u001b[38;5;124;43mencoding_errors\u001b[39;49m\u001b[38;5;124;43m\"\u001b[39;49m\u001b[43m,\u001b[49m\u001b[43m \u001b[49m\u001b[38;5;124;43m\"\u001b[39;49m\u001b[38;5;124;43mstrict\u001b[39;49m\u001b[38;5;124;43m\"\u001b[39;49m\u001b[43m)\u001b[49m\u001b[43m,\u001b[49m\n\u001b[1;32m   1669\u001b[0m \u001b[43m    \u001b[49m\u001b[43mstorage_options\u001b[49m\u001b[38;5;241;43m=\u001b[39;49m\u001b[38;5;28;43mself\u001b[39;49m\u001b[38;5;241;43m.\u001b[39;49m\u001b[43moptions\u001b[49m\u001b[38;5;241;43m.\u001b[39;49m\u001b[43mget\u001b[49m\u001b[43m(\u001b[49m\u001b[38;5;124;43m\"\u001b[39;49m\u001b[38;5;124;43mstorage_options\u001b[39;49m\u001b[38;5;124;43m\"\u001b[39;49m\u001b[43m,\u001b[49m\u001b[43m \u001b[49m\u001b[38;5;28;43;01mNone\u001b[39;49;00m\u001b[43m)\u001b[49m\u001b[43m,\u001b[49m\n\u001b[1;32m   1670\u001b[0m \u001b[43m\u001b[49m\u001b[43m)\u001b[49m\n\u001b[1;32m   1671\u001b[0m \u001b[38;5;28;01massert\u001b[39;00m \u001b[38;5;28mself\u001b[39m\u001b[38;5;241m.\u001b[39mhandles \u001b[38;5;129;01mis\u001b[39;00m \u001b[38;5;129;01mnot\u001b[39;00m \u001b[38;5;28;01mNone\u001b[39;00m\n\u001b[1;32m   1672\u001b[0m f \u001b[38;5;241m=\u001b[39m \u001b[38;5;28mself\u001b[39m\u001b[38;5;241m.\u001b[39mhandles\u001b[38;5;241m.\u001b[39mhandle\n",
      "File \u001b[0;32m/opt/anaconda3/envs/bigdata/lib/python3.8/site-packages/pandas/io/common.py:859\u001b[0m, in \u001b[0;36mget_handle\u001b[0;34m(path_or_buf, mode, encoding, compression, memory_map, is_text, errors, storage_options)\u001b[0m\n\u001b[1;32m    854\u001b[0m \u001b[38;5;28;01melif\u001b[39;00m \u001b[38;5;28misinstance\u001b[39m(handle, \u001b[38;5;28mstr\u001b[39m):\n\u001b[1;32m    855\u001b[0m     \u001b[38;5;66;03m# Check whether the filename is to be opened in binary mode.\u001b[39;00m\n\u001b[1;32m    856\u001b[0m     \u001b[38;5;66;03m# Binary mode does not support 'encoding' and 'newline'.\u001b[39;00m\n\u001b[1;32m    857\u001b[0m     \u001b[38;5;28;01mif\u001b[39;00m ioargs\u001b[38;5;241m.\u001b[39mencoding \u001b[38;5;129;01mand\u001b[39;00m \u001b[38;5;124m\"\u001b[39m\u001b[38;5;124mb\u001b[39m\u001b[38;5;124m\"\u001b[39m \u001b[38;5;129;01mnot\u001b[39;00m \u001b[38;5;129;01min\u001b[39;00m ioargs\u001b[38;5;241m.\u001b[39mmode:\n\u001b[1;32m    858\u001b[0m         \u001b[38;5;66;03m# Encoding\u001b[39;00m\n\u001b[0;32m--> 859\u001b[0m         handle \u001b[38;5;241m=\u001b[39m \u001b[38;5;28;43mopen\u001b[39;49m\u001b[43m(\u001b[49m\n\u001b[1;32m    860\u001b[0m \u001b[43m            \u001b[49m\u001b[43mhandle\u001b[49m\u001b[43m,\u001b[49m\n\u001b[1;32m    861\u001b[0m \u001b[43m            \u001b[49m\u001b[43mioargs\u001b[49m\u001b[38;5;241;43m.\u001b[39;49m\u001b[43mmode\u001b[49m\u001b[43m,\u001b[49m\n\u001b[1;32m    862\u001b[0m \u001b[43m            \u001b[49m\u001b[43mencoding\u001b[49m\u001b[38;5;241;43m=\u001b[39;49m\u001b[43mioargs\u001b[49m\u001b[38;5;241;43m.\u001b[39;49m\u001b[43mencoding\u001b[49m\u001b[43m,\u001b[49m\n\u001b[1;32m    863\u001b[0m \u001b[43m            \u001b[49m\u001b[43merrors\u001b[49m\u001b[38;5;241;43m=\u001b[39;49m\u001b[43merrors\u001b[49m\u001b[43m,\u001b[49m\n\u001b[1;32m    864\u001b[0m \u001b[43m            \u001b[49m\u001b[43mnewline\u001b[49m\u001b[38;5;241;43m=\u001b[39;49m\u001b[38;5;124;43m\"\u001b[39;49m\u001b[38;5;124;43m\"\u001b[39;49m\u001b[43m,\u001b[49m\n\u001b[1;32m    865\u001b[0m \u001b[43m        \u001b[49m\u001b[43m)\u001b[49m\n\u001b[1;32m    866\u001b[0m     \u001b[38;5;28;01melse\u001b[39;00m:\n\u001b[1;32m    867\u001b[0m         \u001b[38;5;66;03m# Binary mode\u001b[39;00m\n\u001b[1;32m    868\u001b[0m         handle \u001b[38;5;241m=\u001b[39m \u001b[38;5;28mopen\u001b[39m(handle, ioargs\u001b[38;5;241m.\u001b[39mmode)\n",
      "\u001b[0;31mFileNotFoundError\u001b[0m: [Errno 2] No such file or directory: '../data/국민건강보험공단_건강검진정보_2023.CSV'"
     ]
    }
   ],
   "source": [
    "import pandas as pd\n",
    "# ../ 는 상위디렉토리로 올라가는거. 그 안에 data폴더에 있는 우리가 쓰는 데이터를 활용하는 방식\n",
    "# encoding은 cp949 ,utf-8 아니면 없이 하면 작동하니까 당황하지 않기\n",
    "df = pd.read_csv('../data/국민건강보험공단_건강검진정보_2023.CSV', encoding= 'cp949')"
   ]
  },
  {
   "cell_type": "code",
   "execution_count": null,
   "id": "3f092305",
   "metadata": {},
   "outputs": [
    {
     "name": "stdout",
     "output_type": "stream",
     "text": [
      "<class 'pandas.core.frame.DataFrame'>\n",
      "RangeIndex: 1000000 entries, 0 to 999999\n",
      "Data columns (total 33 columns):\n",
      " #   Column         Non-Null Count    Dtype  \n",
      "---  ------         --------------    -----  \n",
      " 0   기준년도           1000000 non-null  int64  \n",
      " 1   가입자일련번호        1000000 non-null  int64  \n",
      " 2   시도코드           1000000 non-null  int64  \n",
      " 3   성별코드           1000000 non-null  int64  \n",
      " 4   연령대코드(5세단위)    1000000 non-null  int64  \n",
      " 5   신장(5cm단위)      1000000 non-null  int64  \n",
      " 6   체중(5kg단위)      1000000 non-null  int64  \n",
      " 7   허리둘레           999589 non-null   float64\n",
      " 8   시력(좌)          999816 non-null   float64\n",
      " 9   시력(우)          999823 non-null   float64\n",
      " 10  청력(좌)          999863 non-null   float64\n",
      " 11  청력(우)          999862 non-null   float64\n",
      " 12  수축기혈압          994253 non-null   float64\n",
      " 13  이완기혈압          994253 non-null   float64\n",
      " 14  식전혈당(공복혈당)     994186 non-null   float64\n",
      " 15  총콜레스테롤         338606 non-null   float64\n",
      " 16  트리글리세라이드       338606 non-null   float64\n",
      " 17  HDL콜레스테롤       338606 non-null   float64\n",
      " 18  LDL콜레스테롤       332753 non-null   float64\n",
      " 19  혈색소            994183 non-null   float64\n",
      " 20  요단백            988844 non-null   float64\n",
      " 21  혈청크레아티닌        994186 non-null   float64\n",
      " 22  혈청지오티(AST)     994184 non-null   float64\n",
      " 23  혈청지피티(ALT)     994184 non-null   float64\n",
      " 24  감마지티피          994187 non-null   float64\n",
      " 25  흡연상태           999911 non-null   float64\n",
      " 26  음주여부           999944 non-null   float64\n",
      " 27  구강검진수검여부       1000000 non-null  int64  \n",
      " 28  치아우식증유무        346848 non-null   float64\n",
      " 29  결손치 유무         0 non-null        float64\n",
      " 30  치아마모증유무        0 non-null        float64\n",
      " 31  제3대구치(사랑니) 이상  0 non-null        float64\n",
      " 32  치석             346848 non-null   float64\n",
      "dtypes: float64(25), int64(8)\n",
      "memory usage: 251.8 MB\n"
     ]
    }
   ],
   "source": [
    "df.info()"
   ]
  },
  {
   "cell_type": "code",
   "execution_count": null,
   "id": "d88ca401",
   "metadata": {},
   "outputs": [
    {
     "data": {
      "text/plain": [
       "Index(['기준년도', '가입자일련번호', '시도코드', '성별코드', '연령대코드(5세단위)', '신장(5cm단위)',\n",
       "       '체중(5kg단위)', '허리둘레', '시력(좌)', '시력(우)', '청력(좌)', '청력(우)', '수축기혈압',\n",
       "       '이완기혈압', '식전혈당(공복혈당)', '총콜레스테롤', '트리글리세라이드', 'HDL콜레스테롤', 'LDL콜레스테롤',\n",
       "       '혈색소', '요단백', '혈청크레아티닌', '혈청지오티(AST)', '혈청지피티(ALT)', '감마지티피', '흡연상태',\n",
       "       '음주여부', '구강검진수검여부', '치아우식증유무', '결손치 유무', '치아마모증유무', '제3대구치(사랑니) 이상',\n",
       "       '치석'],\n",
       "      dtype='object')"
      ]
     },
     "execution_count": 293,
     "metadata": {},
     "output_type": "execute_result"
    }
   ],
   "source": [
    "df.columns"
   ]
  },
  {
   "cell_type": "code",
   "execution_count": null,
   "id": "3c339984",
   "metadata": {},
   "outputs": [],
   "source": [
    "# unique값에 대한 summary와 na값에 대한 summary가 츌력되는 함수\n",
    "def create_summary(df):\n",
    "    n_unique_df = {}\n",
    "    n_na_df = {}\n",
    "    for col in df.columns:\n",
    "        n_na_df[col] = [df[col].isna().sum()/len(df)*100]\n",
    "        n_unique_df[col] = [df[col].nunique()]\n",
    "    n_unique_d = pd.DataFrame.from_dict(data= n_unique_df).T.sort_values(by =0).reset_index()\n",
    "    n_na_d = pd.DataFrame(n_na_df).T.sort_values(by = 0).reset_index()\n",
    "    n_na_d.columns = ['index', 'n_na']\n",
    "    n_unique_d.columns = ['index', 'n_unique']\n",
    "    return n_unique_d, n_na_d"
   ]
  },
  {
   "cell_type": "code",
   "execution_count": null,
   "id": "ffa18363",
   "metadata": {},
   "outputs": [],
   "source": [
    "unique_df , na_df = create_summary(df)"
   ]
  },
  {
   "cell_type": "code",
   "execution_count": null,
   "id": "ee3040c0",
   "metadata": {},
   "outputs": [],
   "source": [
    "#한번 summary를 읽어보고 내가 쓸 column들을 선정하기\n",
    "df_col_to_use = na_df['index'].unique()[:-9].tolist()"
   ]
  },
  {
   "cell_type": "code",
   "execution_count": null,
   "id": "81bdad42",
   "metadata": {},
   "outputs": [
    {
     "data": {
      "text/plain": [
       "['기준년도',\n",
       " '가입자일련번호',\n",
       " '시도코드',\n",
       " '성별코드',\n",
       " '연령대코드(5세단위)',\n",
       " '신장(5cm단위)',\n",
       " '체중(5kg단위)',\n",
       " '구강검진수검여부',\n",
       " '음주여부',\n",
       " '흡연상태',\n",
       " '청력(좌)',\n",
       " '청력(우)',\n",
       " '시력(우)',\n",
       " '시력(좌)',\n",
       " '허리둘레',\n",
       " '수축기혈압',\n",
       " '이완기혈압',\n",
       " '감마지티피',\n",
       " '식전혈당(공복혈당)',\n",
       " '혈청크레아티닌',\n",
       " '혈청지피티(ALT)',\n",
       " '혈청지오티(AST)',\n",
       " '혈색소',\n",
       " '요단백']"
      ]
     },
     "execution_count": 297,
     "metadata": {},
     "output_type": "execute_result"
    }
   ],
   "source": [
    "# 내가 쓸 데이터의 컬럼들을 리스트로 저장\n",
    "df_col_to_use"
   ]
  },
  {
   "cell_type": "code",
   "execution_count": null,
   "id": "1e066896",
   "metadata": {},
   "outputs": [
    {
     "data": {
      "text/plain": [
       "Index(['기준년도', '가입자일련번호', '시도코드', '성별코드', '연령대코드(5세단위)', '신장(5cm단위)',\n",
       "       '체중(5kg단위)', '구강검진수검여부', '음주여부', '흡연상태', '청력(좌)', '청력(우)', '시력(우)',\n",
       "       '시력(좌)', '허리둘레', '수축기혈압', '이완기혈압', '감마지티피', '식전혈당(공복혈당)', '혈청크레아티닌',\n",
       "       '혈청지피티(ALT)', '혈청지오티(AST)', '혈색소', '요단백'],\n",
       "      dtype='object')"
      ]
     },
     "execution_count": 298,
     "metadata": {},
     "output_type": "execute_result"
    }
   ],
   "source": [
    "df = df[df_col_to_use]\n",
    "df.columns"
   ]
  },
  {
   "cell_type": "code",
   "execution_count": null,
   "id": "44e5d111",
   "metadata": {},
   "outputs": [],
   "source": [
    "a, b = create_summary(df)"
   ]
  },
  {
   "cell_type": "code",
   "execution_count": null,
   "id": "13da1b80",
   "metadata": {},
   "outputs": [],
   "source": [
    "# 기준년도 1개뿐이라서 제거, 가입자 일련번호도 불필요 제거\n",
    "df.drop(columns=['기준년도', '가입자일련번호'], axis =1, inplace =True)\n",
    "# 성별, 음주, 구강검진수검여부 boolean\n",
    "# 청력(좌), 청력(우), 흡연상태 :one-hot_encoding"
   ]
  },
  {
   "cell_type": "markdown",
   "id": "ebe2dd8e",
   "metadata": {},
   "source": [
    "### 여기서 이제 데이터 타입을 결정해서 분류하기\n",
    "### numeric type은 int 아니면 float로\n",
    "### 범주형의 경우 category,아니면 object로 저장하기!!!\n",
    "## 이걸 해야 뒤에 함수가 오류없이 작동합니다"
   ]
  },
  {
   "cell_type": "code",
   "execution_count": null,
   "id": "88626f48",
   "metadata": {},
   "outputs": [
    {
     "name": "stdout",
     "output_type": "stream",
     "text": [
      "<class 'pandas.core.frame.DataFrame'>\n",
      "RangeIndex: 1000000 entries, 0 to 999999\n",
      "Data columns (total 22 columns):\n",
      " #   Column       Non-Null Count    Dtype  \n",
      "---  ------       --------------    -----  \n",
      " 0   시도코드         1000000 non-null  int64  \n",
      " 1   성별코드         1000000 non-null  int64  \n",
      " 2   연령대코드(5세단위)  1000000 non-null  int64  \n",
      " 3   신장(5cm단위)    1000000 non-null  int64  \n",
      " 4   체중(5kg단위)    1000000 non-null  int64  \n",
      " 5   구강검진수검여부     1000000 non-null  int64  \n",
      " 6   음주여부         999944 non-null   float64\n",
      " 7   흡연상태         999911 non-null   float64\n",
      " 8   청력(좌)        999863 non-null   float64\n",
      " 9   청력(우)        999862 non-null   float64\n",
      " 10  시력(우)        999823 non-null   float64\n",
      " 11  시력(좌)        999816 non-null   float64\n",
      " 12  허리둘레         999589 non-null   float64\n",
      " 13  수축기혈압        994253 non-null   float64\n",
      " 14  이완기혈압        994253 non-null   float64\n",
      " 15  감마지티피        994187 non-null   float64\n",
      " 16  식전혈당(공복혈당)   994186 non-null   float64\n",
      " 17  혈청크레아티닌      994186 non-null   float64\n",
      " 18  혈청지피티(ALT)   994184 non-null   float64\n",
      " 19  혈청지오티(AST)   994184 non-null   float64\n",
      " 20  혈색소          994183 non-null   float64\n",
      " 21  요단백          988844 non-null   float64\n",
      "dtypes: float64(16), int64(6)\n",
      "memory usage: 167.8 MB\n"
     ]
    }
   ],
   "source": [
    "df.info()"
   ]
  },
  {
   "cell_type": "code",
   "execution_count": null,
   "id": "24d0c3fb",
   "metadata": {},
   "outputs": [],
   "source": [
    "from sklearn.preprocessing import LabelEncoder, MinMaxScaler\n",
    "import pandas as pd\n",
    "# IQR로 outlier 처리\n",
    "def check_outlier(df, threshold=1.5):\n",
    "    for col in df.select_dtypes(include=['int', 'float']):\n",
    "        Q1 = df[col].quantile(0.25)\n",
    "        Q3 = df[col].quantile(0.75)\n",
    "        IQR = Q3 - Q1\n",
    "        lower_bound = Q1 - threshold * IQR\n",
    "        upper_bound = Q3 + threshold * IQR\n",
    "        df[col] = df[col].clip(lower_bound, upper_bound)\n",
    "    return df\n",
    "\n",
    "#모든 전처리를 한번에 해주는 함수\n",
    "def d_converter(df, unique_threshold = 5):\n",
    "    df = df.copy()\n",
    "    \n",
    "    # 이상치 처리\n",
    "    df = check_outlier(df, threshold=1.5)\n",
    "\n",
    "    # numeric 변수 minmax scaling\n",
    "    for col in df.select_dtypes(include=['int', 'float']):\n",
    "    #평균으로 결측치 처리... 다른 방법으로 할 수 있으면 해보십숑 interpolate도 가능\n",
    "        df[col] = df[col].fillna(df[col].mean())\n",
    "        scaler = MinMaxScaler()\n",
    "        df[col] = scaler.fit_transform(df[[col]])\n",
    "\n",
    "    # categorical 변수를 인코딩\n",
    "    for col in df.select_dtypes(include=['object', 'category']):\n",
    "        df[col] =df[col].fillna(df[col].mode())\n",
    "        #5개 이상이면...label encoding인데 기준 바꾸어도됨 상황따라서\n",
    "        if df[col].nunique() >= unique_threshold:\n",
    "            le = LabelEncoder()\n",
    "            df[col] = le.fit_transform(df[col])\n",
    "        else:\n",
    "            dummies = pd.get_dummies(df[col], prefix=col)\n",
    "            df = pd.concat([df.drop(columns=[col]), dummies], axis=1)\n",
    "\n",
    "    return df\n"
   ]
  },
  {
   "cell_type": "code",
   "execution_count": null,
   "id": "e91c6a16",
   "metadata": {},
   "outputs": [],
   "source": [
    "df_final   = d_converter(df)"
   ]
  },
  {
   "cell_type": "code",
   "execution_count": null,
   "id": "055be62b",
   "metadata": {},
   "outputs": [
    {
     "name": "stdout",
     "output_type": "stream",
     "text": [
      "<class 'pandas.core.frame.DataFrame'>\n",
      "RangeIndex: 1000000 entries, 0 to 999999\n",
      "Data columns (total 22 columns):\n",
      " #   Column       Non-Null Count    Dtype  \n",
      "---  ------       --------------    -----  \n",
      " 0   시도코드         1000000 non-null  float64\n",
      " 1   성별코드         1000000 non-null  float64\n",
      " 2   연령대코드(5세단위)  1000000 non-null  float64\n",
      " 3   신장(5cm단위)    1000000 non-null  float64\n",
      " 4   체중(5kg단위)    1000000 non-null  float64\n",
      " 5   구강검진수검여부     1000000 non-null  float64\n",
      " 6   음주여부         1000000 non-null  float64\n",
      " 7   흡연상태         1000000 non-null  float64\n",
      " 8   청력(좌)        1000000 non-null  float64\n",
      " 9   청력(우)        1000000 non-null  float64\n",
      " 10  시력(우)        1000000 non-null  float64\n",
      " 11  시력(좌)        1000000 non-null  float64\n",
      " 12  허리둘레         1000000 non-null  float64\n",
      " 13  수축기혈압        1000000 non-null  float64\n",
      " 14  이완기혈압        1000000 non-null  float64\n",
      " 15  감마지티피        1000000 non-null  float64\n",
      " 16  식전혈당(공복혈당)   1000000 non-null  float64\n",
      " 17  혈청크레아티닌      1000000 non-null  float64\n",
      " 18  혈청지피티(ALT)   1000000 non-null  float64\n",
      " 19  혈청지오티(AST)   1000000 non-null  float64\n",
      " 20  혈색소          1000000 non-null  float64\n",
      " 21  요단백          1000000 non-null  float64\n",
      "dtypes: float64(22)\n",
      "memory usage: 167.8 MB\n"
     ]
    }
   ],
   "source": [
    "df_final.info()"
   ]
  },
  {
   "cell_type": "code",
   "execution_count": null,
   "id": "918edd7c",
   "metadata": {},
   "outputs": [
    {
     "data": {
      "text/html": [
       "<div>\n",
       "<style scoped>\n",
       "    .dataframe tbody tr th:only-of-type {\n",
       "        vertical-align: middle;\n",
       "    }\n",
       "\n",
       "    .dataframe tbody tr th {\n",
       "        vertical-align: top;\n",
       "    }\n",
       "\n",
       "    .dataframe thead th {\n",
       "        text-align: right;\n",
       "    }\n",
       "</style>\n",
       "<table border=\"1\" class=\"dataframe\">\n",
       "  <thead>\n",
       "    <tr style=\"text-align: right;\">\n",
       "      <th></th>\n",
       "      <th>시도코드</th>\n",
       "      <th>성별코드</th>\n",
       "      <th>연령대코드(5세단위)</th>\n",
       "      <th>신장(5cm단위)</th>\n",
       "      <th>체중(5kg단위)</th>\n",
       "      <th>구강검진수검여부</th>\n",
       "      <th>음주여부</th>\n",
       "      <th>흡연상태</th>\n",
       "      <th>청력(좌)</th>\n",
       "      <th>청력(우)</th>\n",
       "      <th>...</th>\n",
       "      <th>허리둘레</th>\n",
       "      <th>수축기혈압</th>\n",
       "      <th>이완기혈압</th>\n",
       "      <th>감마지티피</th>\n",
       "      <th>식전혈당(공복혈당)</th>\n",
       "      <th>혈청크레아티닌</th>\n",
       "      <th>혈청지피티(ALT)</th>\n",
       "      <th>혈청지오티(AST)</th>\n",
       "      <th>혈색소</th>\n",
       "      <th>요단백</th>\n",
       "    </tr>\n",
       "  </thead>\n",
       "  <tbody>\n",
       "    <tr>\n",
       "      <th>0</th>\n",
       "      <td>0.921053</td>\n",
       "      <td>1.0</td>\n",
       "      <td>0.307692</td>\n",
       "      <td>0.375000</td>\n",
       "      <td>0.533333</td>\n",
       "      <td>0.0</td>\n",
       "      <td>1.0</td>\n",
       "      <td>0.0</td>\n",
       "      <td>0.0</td>\n",
       "      <td>0.0</td>\n",
       "      <td>...</td>\n",
       "      <td>0.696429</td>\n",
       "      <td>0.717105</td>\n",
       "      <td>0.759615</td>\n",
       "      <td>0.710145</td>\n",
       "      <td>0.507353</td>\n",
       "      <td>0.208333</td>\n",
       "      <td>0.446602</td>\n",
       "      <td>0.550</td>\n",
       "      <td>0.446429</td>\n",
       "      <td>0.0</td>\n",
       "    </tr>\n",
       "    <tr>\n",
       "      <th>1</th>\n",
       "      <td>0.000000</td>\n",
       "      <td>0.0</td>\n",
       "      <td>0.923077</td>\n",
       "      <td>0.458333</td>\n",
       "      <td>0.333333</td>\n",
       "      <td>0.0</td>\n",
       "      <td>1.0</td>\n",
       "      <td>0.0</td>\n",
       "      <td>0.0</td>\n",
       "      <td>0.0</td>\n",
       "      <td>...</td>\n",
       "      <td>0.589286</td>\n",
       "      <td>0.506579</td>\n",
       "      <td>0.048077</td>\n",
       "      <td>0.434783</td>\n",
       "      <td>0.345588</td>\n",
       "      <td>0.875000</td>\n",
       "      <td>0.194175</td>\n",
       "      <td>0.450</td>\n",
       "      <td>0.648810</td>\n",
       "      <td>0.0</td>\n",
       "    </tr>\n",
       "    <tr>\n",
       "      <th>2</th>\n",
       "      <td>0.657895</td>\n",
       "      <td>1.0</td>\n",
       "      <td>0.615385</td>\n",
       "      <td>0.291667</td>\n",
       "      <td>0.466667</td>\n",
       "      <td>0.0</td>\n",
       "      <td>1.0</td>\n",
       "      <td>0.0</td>\n",
       "      <td>0.0</td>\n",
       "      <td>0.0</td>\n",
       "      <td>...</td>\n",
       "      <td>0.767857</td>\n",
       "      <td>0.322368</td>\n",
       "      <td>0.375000</td>\n",
       "      <td>0.333333</td>\n",
       "      <td>0.742647</td>\n",
       "      <td>0.708333</td>\n",
       "      <td>0.543689</td>\n",
       "      <td>0.450</td>\n",
       "      <td>0.410714</td>\n",
       "      <td>0.0</td>\n",
       "    </tr>\n",
       "    <tr>\n",
       "      <th>3</th>\n",
       "      <td>0.000000</td>\n",
       "      <td>0.0</td>\n",
       "      <td>0.615385</td>\n",
       "      <td>0.458333</td>\n",
       "      <td>0.533333</td>\n",
       "      <td>1.0</td>\n",
       "      <td>1.0</td>\n",
       "      <td>1.0</td>\n",
       "      <td>0.0</td>\n",
       "      <td>0.0</td>\n",
       "      <td>...</td>\n",
       "      <td>0.571429</td>\n",
       "      <td>0.414474</td>\n",
       "      <td>0.278846</td>\n",
       "      <td>0.376812</td>\n",
       "      <td>0.507353</td>\n",
       "      <td>0.541667</td>\n",
       "      <td>0.388350</td>\n",
       "      <td>0.450</td>\n",
       "      <td>0.660714</td>\n",
       "      <td>0.0</td>\n",
       "    </tr>\n",
       "    <tr>\n",
       "      <th>4</th>\n",
       "      <td>0.789474</td>\n",
       "      <td>0.0</td>\n",
       "      <td>0.538462</td>\n",
       "      <td>0.541667</td>\n",
       "      <td>0.466667</td>\n",
       "      <td>0.0</td>\n",
       "      <td>1.0</td>\n",
       "      <td>1.0</td>\n",
       "      <td>0.0</td>\n",
       "      <td>0.0</td>\n",
       "      <td>...</td>\n",
       "      <td>0.562500</td>\n",
       "      <td>0.690789</td>\n",
       "      <td>0.701923</td>\n",
       "      <td>0.695652</td>\n",
       "      <td>0.610294</td>\n",
       "      <td>0.458333</td>\n",
       "      <td>0.621359</td>\n",
       "      <td>0.475</td>\n",
       "      <td>0.577381</td>\n",
       "      <td>0.0</td>\n",
       "    </tr>\n",
       "  </tbody>\n",
       "</table>\n",
       "<p>5 rows × 22 columns</p>\n",
       "</div>"
      ],
      "text/plain": [
       "       시도코드  성별코드  연령대코드(5세단위)  신장(5cm단위)  체중(5kg단위)  구강검진수검여부  음주여부  흡연상태  \\\n",
       "0  0.921053   1.0     0.307692   0.375000   0.533333       0.0   1.0   0.0   \n",
       "1  0.000000   0.0     0.923077   0.458333   0.333333       0.0   1.0   0.0   \n",
       "2  0.657895   1.0     0.615385   0.291667   0.466667       0.0   1.0   0.0   \n",
       "3  0.000000   0.0     0.615385   0.458333   0.533333       1.0   1.0   1.0   \n",
       "4  0.789474   0.0     0.538462   0.541667   0.466667       0.0   1.0   1.0   \n",
       "\n",
       "   청력(좌)  청력(우)  ...      허리둘레     수축기혈압     이완기혈압     감마지티피  식전혈당(공복혈당)  \\\n",
       "0    0.0    0.0  ...  0.696429  0.717105  0.759615  0.710145    0.507353   \n",
       "1    0.0    0.0  ...  0.589286  0.506579  0.048077  0.434783    0.345588   \n",
       "2    0.0    0.0  ...  0.767857  0.322368  0.375000  0.333333    0.742647   \n",
       "3    0.0    0.0  ...  0.571429  0.414474  0.278846  0.376812    0.507353   \n",
       "4    0.0    0.0  ...  0.562500  0.690789  0.701923  0.695652    0.610294   \n",
       "\n",
       "    혈청크레아티닌  혈청지피티(ALT)  혈청지오티(AST)       혈색소  요단백  \n",
       "0  0.208333    0.446602       0.550  0.446429  0.0  \n",
       "1  0.875000    0.194175       0.450  0.648810  0.0  \n",
       "2  0.708333    0.543689       0.450  0.410714  0.0  \n",
       "3  0.541667    0.388350       0.450  0.660714  0.0  \n",
       "4  0.458333    0.621359       0.475  0.577381  0.0  \n",
       "\n",
       "[5 rows x 22 columns]"
      ]
     },
     "execution_count": 307,
     "metadata": {},
     "output_type": "execute_result"
    }
   ],
   "source": [
    "df_final.head()"
   ]
  },
  {
   "cell_type": "code",
   "execution_count": null,
   "id": "7959b637",
   "metadata": {},
   "outputs": [],
   "source": [
    "#Sample을 본인이 푼 문제 기준으로 A01... A02등으로 바꿔서 제출하기\n",
    "#df_final.to_csv(f'Sample.csv', index =False)"
   ]
  }
 ],
 "metadata": {
  "kernelspec": {
   "display_name": "bigdata",
   "language": "python",
   "name": "python3"
  },
  "language_info": {
   "codemirror_mode": {
    "name": "ipython",
    "version": 3
   },
   "file_extension": ".py",
   "mimetype": "text/x-python",
   "name": "python",
   "nbconvert_exporter": "python",
   "pygments_lexer": "ipython3",
   "version": "3.8.20"
  }
 },
 "nbformat": 4,
 "nbformat_minor": 5
}
