{
 "cells": [
  {
   "cell_type": "markdown",
   "id": "8125afc8",
   "metadata": {},
   "source": [
    "## 05 PARK YEJUN"
   ]
  },
  {
   "cell_type": "code",
   "execution_count": 96,
   "id": "fd4acb41",
   "metadata": {},
   "outputs": [],
   "source": [
    "import pandas as pd\n",
    "df = pd.read_csv('/Users/parkyejun/Downloads/5_SOCCER.csv')"
   ]
  },
  {
   "cell_type": "code",
   "execution_count": 97,
   "id": "136dfeca",
   "metadata": {},
   "outputs": [
    {
     "name": "stdout",
     "output_type": "stream",
     "text": [
      "<class 'pandas.core.frame.DataFrame'>\n",
      "RangeIndex: 18944 entries, 0 to 18943\n",
      "Columns: 106 entries, sofifa_id to rb\n",
      "dtypes: float64(18), int64(44), object(44)\n",
      "memory usage: 15.3+ MB\n"
     ]
    }
   ],
   "source": [
    "df.info()"
   ]
  },
  {
   "cell_type": "code",
   "execution_count": 98,
   "id": "bad983a6",
   "metadata": {},
   "outputs": [
    {
     "data": {
      "text/plain": [
       "Index(['sofifa_id', 'player_url', 'short_name', 'long_name', 'age', 'dob',\n",
       "       'height_cm', 'weight_kg', 'nationality', 'club_name',\n",
       "       ...\n",
       "       'lwb', 'ldm', 'cdm', 'rdm', 'rwb', 'lb', 'lcb', 'cb', 'rcb', 'rb'],\n",
       "      dtype='object', length=106)"
      ]
     },
     "execution_count": 98,
     "metadata": {},
     "output_type": "execute_result"
    }
   ],
   "source": [
    "df.columns"
   ]
  },
  {
   "cell_type": "code",
   "execution_count": 99,
   "id": "66c0d599",
   "metadata": {},
   "outputs": [],
   "source": [
    "# unique값에 대한 summary와 na값에 대한 summary가 츌력되는 함수\n",
    "def create_summary(df):\n",
    "    n_unique_df = {}\n",
    "    n_na_df = {}\n",
    "    for col in df.columns:\n",
    "        n_na_df[col] = [df[col].isna().sum()/len(df)*100]\n",
    "        n_unique_df[col] = [df[col].nunique()]\n",
    "    n_unique_d = pd.DataFrame.from_dict(data= n_unique_df).T.sort_values(by =0).reset_index()\n",
    "    n_na_d = pd.DataFrame(n_na_df).T.sort_values(by = 0).reset_index()\n",
    "    n_na_d.columns = ['index', 'n_na']\n",
    "    n_unique_d.columns = ['index', 'n_unique']\n",
    "    return n_unique_d, n_na_d\n",
    "\n",
    "unique_df , na_df = create_summary(df)"
   ]
  },
  {
   "cell_type": "code",
   "execution_count": 100,
   "id": "cf058bac",
   "metadata": {},
   "outputs": [
    {
     "data": {
      "text/html": [
       "<div>\n",
       "<style scoped>\n",
       "    .dataframe tbody tr th:only-of-type {\n",
       "        vertical-align: middle;\n",
       "    }\n",
       "\n",
       "    .dataframe tbody tr th {\n",
       "        vertical-align: top;\n",
       "    }\n",
       "\n",
       "    .dataframe thead th {\n",
       "        text-align: right;\n",
       "    }\n",
       "</style>\n",
       "<table border=\"1\" class=\"dataframe\">\n",
       "  <thead>\n",
       "    <tr style=\"text-align: right;\">\n",
       "      <th></th>\n",
       "      <th>index</th>\n",
       "      <th>n_unique</th>\n",
       "    </tr>\n",
       "  </thead>\n",
       "  <tbody>\n",
       "    <tr>\n",
       "      <th>0</th>\n",
       "      <td>defending_marking</td>\n",
       "      <td>0</td>\n",
       "    </tr>\n",
       "    <tr>\n",
       "      <th>1</th>\n",
       "      <td>real_face</td>\n",
       "      <td>2</td>\n",
       "    </tr>\n",
       "    <tr>\n",
       "      <th>2</th>\n",
       "      <td>preferred_foot</td>\n",
       "      <td>2</td>\n",
       "    </tr>\n",
       "    <tr>\n",
       "      <th>3</th>\n",
       "      <td>league_rank</td>\n",
       "      <td>4</td>\n",
       "    </tr>\n",
       "    <tr>\n",
       "      <th>4</th>\n",
       "      <td>skill_moves</td>\n",
       "      <td>5</td>\n",
       "    </tr>\n",
       "    <tr>\n",
       "      <th>5</th>\n",
       "      <td>weak_foot</td>\n",
       "      <td>5</td>\n",
       "    </tr>\n",
       "    <tr>\n",
       "      <th>6</th>\n",
       "      <td>international_reputation</td>\n",
       "      <td>5</td>\n",
       "    </tr>\n",
       "    <tr>\n",
       "      <th>7</th>\n",
       "      <td>work_rate</td>\n",
       "      <td>9</td>\n",
       "    </tr>\n",
       "    <tr>\n",
       "      <th>8</th>\n",
       "      <td>contract_valid_until</td>\n",
       "      <td>9</td>\n",
       "    </tr>\n",
       "    <tr>\n",
       "      <th>9</th>\n",
       "      <td>nation_jersey_number</td>\n",
       "      <td>25</td>\n",
       "    </tr>\n",
       "    <tr>\n",
       "      <th>10</th>\n",
       "      <td>nation_position</td>\n",
       "      <td>26</td>\n",
       "    </tr>\n",
       "    <tr>\n",
       "      <th>11</th>\n",
       "      <td>team_position</td>\n",
       "      <td>29</td>\n",
       "    </tr>\n",
       "    <tr>\n",
       "      <th>12</th>\n",
       "      <td>age</td>\n",
       "      <td>29</td>\n",
       "    </tr>\n",
       "    <tr>\n",
       "      <th>13</th>\n",
       "      <td>gk_diving</td>\n",
       "      <td>46</td>\n",
       "    </tr>\n",
       "    <tr>\n",
       "      <th>14</th>\n",
       "      <td>gk_handling</td>\n",
       "      <td>47</td>\n",
       "    </tr>\n",
       "    <tr>\n",
       "      <th>15</th>\n",
       "      <td>gk_reflexes</td>\n",
       "      <td>47</td>\n",
       "    </tr>\n",
       "    <tr>\n",
       "      <th>16</th>\n",
       "      <td>overall</td>\n",
       "      <td>47</td>\n",
       "    </tr>\n",
       "    <tr>\n",
       "      <th>17</th>\n",
       "      <td>potential</td>\n",
       "      <td>48</td>\n",
       "    </tr>\n",
       "    <tr>\n",
       "      <th>18</th>\n",
       "      <td>height_cm</td>\n",
       "      <td>50</td>\n",
       "    </tr>\n",
       "    <tr>\n",
       "      <th>19</th>\n",
       "      <td>gk_speed</td>\n",
       "      <td>52</td>\n",
       "    </tr>\n",
       "  </tbody>\n",
       "</table>\n",
       "</div>"
      ],
      "text/plain": [
       "                       index  n_unique\n",
       "0          defending_marking         0\n",
       "1                  real_face         2\n",
       "2             preferred_foot         2\n",
       "3                league_rank         4\n",
       "4                skill_moves         5\n",
       "5                  weak_foot         5\n",
       "6   international_reputation         5\n",
       "7                  work_rate         9\n",
       "8       contract_valid_until         9\n",
       "9       nation_jersey_number        25\n",
       "10           nation_position        26\n",
       "11             team_position        29\n",
       "12                       age        29\n",
       "13                 gk_diving        46\n",
       "14               gk_handling        47\n",
       "15               gk_reflexes        47\n",
       "16                   overall        47\n",
       "17                 potential        48\n",
       "18                 height_cm        50\n",
       "19                  gk_speed        52"
      ]
     },
     "execution_count": 100,
     "metadata": {},
     "output_type": "execute_result"
    }
   ],
   "source": [
    "unique_df.head(20)"
   ]
  },
  {
   "cell_type": "code",
   "execution_count": 101,
   "id": "346f752d",
   "metadata": {},
   "outputs": [],
   "source": [
    "cat_list = unique_df.head(8).reset_index()['index'].tolist()\n",
    "for col in cat_list:\n",
    "    df[col] = df[col].astype('category')"
   ]
  },
  {
   "cell_type": "code",
   "execution_count": 102,
   "id": "ec5f67ca",
   "metadata": {},
   "outputs": [],
   "source": [
    "na_df\n",
    "rm_list = na_df[na_df['n_na']>5].reset_index()['index'].tolist()\n",
    "for col in rm_list:\n",
    "    df = df.drop(col, axis=1)"
   ]
  },
  {
   "cell_type": "code",
   "execution_count": 103,
   "id": "08048400",
   "metadata": {},
   "outputs": [
    {
     "data": {
      "text/plain": [
       "['joined',\n",
       " 'release_clause_eur',\n",
       " 'physic',\n",
       " 'defending',\n",
       " 'dribbling',\n",
       " 'passing',\n",
       " 'shooting',\n",
       " 'pace',\n",
       " 'player_traits',\n",
       " 'gk_handling',\n",
       " 'gk_kicking',\n",
       " 'gk_reflexes',\n",
       " 'gk_speed',\n",
       " 'gk_positioning',\n",
       " 'gk_diving',\n",
       " 'player_tags',\n",
       " 'nation_position',\n",
       " 'nation_jersey_number',\n",
       " 'loaned_from',\n",
       " 'defending_marking']"
      ]
     },
     "execution_count": 103,
     "metadata": {},
     "output_type": "execute_result"
    }
   ],
   "source": [
    "rm_list"
   ]
  },
  {
   "cell_type": "code",
   "execution_count": 104,
   "id": "8a061711",
   "metadata": {},
   "outputs": [],
   "source": [
    "lst_unnecessary  = [\n",
    "    'short_name',\n",
    "    'long_name',\n",
    "    'dob',\n",
    "    'nationality',\n",
    "    'club_name',\n",
    "    'league_name',\n",
    "    'team_position',\n",
    "    'team_jersey_number',\n",
    "    'contract_valid_until',\n",
    "    'real_face',\n",
    "    'ls',\n",
    "    'st',\n",
    "    'rs',\n",
    "    'lw',\n",
    "    'lf',\n",
    "    'cf',\n",
    "    'rf',\n",
    "    'rw',\n",
    "    'lam',\n",
    "    'cam',\n",
    "    'ram',\n",
    "    'lm',\n",
    "    'lcm',\n",
    "    'cm',\n",
    "    'rcm',\n",
    "    'rm',\n",
    "    'lwb',\n",
    "    'ldm',\n",
    "    'cdm',\n",
    "    'rdm',\n",
    "    'rwb',\n",
    "    'lb',\n",
    "    'lcb',\n",
    "    'cb',\n",
    "    'rcb',\n",
    "    'rb',\n",
    "]\n",
    "\n"
   ]
  },
  {
   "cell_type": "code",
   "execution_count": 105,
   "id": "74a99ddc",
   "metadata": {},
   "outputs": [],
   "source": [
    "#wage_eur은 데이터 누수이므로 제거\n",
    "df.drop(['sofifa_id', 'player_url']+lst_unnecessary+['wage_eur'], axis=1, inplace=True)"
   ]
  },
  {
   "cell_type": "code",
   "execution_count": 108,
   "id": "39e0ac45",
   "metadata": {},
   "outputs": [],
   "source": [
    "from sklearn.preprocessing import LabelEncoder, MinMaxScaler\n",
    "import pandas as pd\n",
    "# IQR로 outlier 처리\n",
    "def check_outlier(df, threshold=1.5):\n",
    "        for col in df.select_dtypes(include=['int', 'float']):\n",
    "            if col != 'value_eur':\n",
    "                Q1 = df[col].quantile(0.25)\n",
    "                Q3 = df[col].quantile(0.75)\n",
    "                IQR = Q3 - Q1\n",
    "                lower_bound = Q1 - threshold * IQR\n",
    "                upper_bound = Q3 + threshold * IQR\n",
    "                df[col] = df[col].clip(lower_bound, upper_bound)\n",
    "        return df\n",
    "\n",
    "#모든 전처리를 한번에 해주는 함수\n",
    "def d_converter(df, unique_threshold = 5):\n",
    "    df = df.copy()\n",
    "    \n",
    "    # 이상치 처리\n",
    "    df = check_outlier(df, threshold=1.5)\n",
    "\n",
    "    # numeric 변수 minmax scaling\n",
    "    for col in df.select_dtypes(include=['int', 'float']):\n",
    "        if col != 'value_eur':\n",
    "        #평균으로 결측치 처리... 다른 방법으로 할 수 있으면 해보십숑 interpolate도 가능\n",
    "            df[col] = df[col].fillna(df[col].mean())\n",
    "            scaler = MinMaxScaler()\n",
    "            df[col] = scaler.fit_transform(df[[col]])\n",
    "\n",
    "    # categorical 변수를 인코딩\n",
    "    for col in df.select_dtypes(include=['object', 'category']):\n",
    "        if col != 'value_eur':\n",
    "            df[col] =df[col].fillna(df[col].mode())\n",
    "            #5개 이상이면...label encoding인데 기준 바꾸어도됨 상황따라서\n",
    "            if df[col].nunique() >= unique_threshold:\n",
    "                le = LabelEncoder()\n",
    "                df[col] = le.fit_transform(df[col])\n",
    "            else:\n",
    "                dummies = pd.get_dummies(df[col], prefix=col)\n",
    "                df = pd.concat([df.drop(columns=[col]), dummies], axis=1)\n",
    "                for new_col in dummies.columns:\n",
    "                    if new_col not in df.columns:\n",
    "                        df[new_col] = 0\n",
    "                    df[new_col] = df[new_col].astype('int')\n",
    "    return df\n"
   ]
  },
  {
   "cell_type": "code",
   "execution_count": 111,
   "id": "37a1f65c",
   "metadata": {},
   "outputs": [],
   "source": [
    "df = d_converter(df)\n",
    "df.rename(columns={'value_eur':'Value'}, inplace=True)"
   ]
  },
  {
   "cell_type": "code",
   "execution_count": null,
   "id": "b1a6488d",
   "metadata": {},
   "outputs": [],
   "source": []
  }
 ],
 "metadata": {
  "kernelspec": {
   "display_name": "bigdata",
   "language": "python",
   "name": "python3"
  },
  "language_info": {
   "codemirror_mode": {
    "name": "ipython",
    "version": 3
   },
   "file_extension": ".py",
   "mimetype": "text/x-python",
   "name": "python",
   "nbconvert_exporter": "python",
   "pygments_lexer": "ipython3",
   "version": "3.8.20"
  }
 },
 "nbformat": 4,
 "nbformat_minor": 5
}
